{
  "nbformat": 4,
  "nbformat_minor": 0,
  "metadata": {
    "colab": {
      "provenance": []
    },
    "kernelspec": {
      "name": "python3",
      "display_name": "Python 3"
    },
    "language_info": {
      "name": "python"
    }
  },
  "cells": [
    {
      "cell_type": "markdown",
      "source": [
        "<center>\n",
        "    <font size=\"5\" color=\"steelblue\"><b>Universidad Nacional de Colombia</b></font><br>\n",
        "    <font size=\"5\" color=\"steelblue\"><b>Unidad de Informática - Facultad de Ciencias Económicas</b></font><br>\n",
        "    <font size=\"5\" color=\"steelblue\"><b>Curso Libre Machine Learning con Python | 2023-1</b></font><br>\n",
        "    <font size=\"5\" color=\"steelblue\"><b>Semana 2: Análisis Exploratorio de Datos</b></font><br>\n",
        "    <font size=\"5\" color=\"steelblue\"><b>Estudiante Auxiliar: Jaime Andrés Fierro Aponte</b></font><br>\n",
        "</center>"
      ],
      "metadata": {
        "id": "TL4WbCNfaZCX"
      }
    },
    {
      "cell_type": "markdown",
      "source": [
        "# Dependencias"
      ],
      "metadata": {
        "id": "QDWeE0R3buLZ"
      }
    },
    {
      "cell_type": "code",
      "source": [
        "# Manejo de datos\n",
        "import pandas as pd\n",
        "import numpy as np\n",
        "\n",
        "# Visualización\n",
        "import matplotlib.pyplot as plt\n",
        "import seaborn as sns\n",
        "\n",
        "# Conexión con Drive\n",
        "from google.colab import drive"
      ],
      "metadata": {
        "id": "wDdgAtdPapyf"
      },
      "execution_count": 136,
      "outputs": []
    },
    {
      "cell_type": "code",
      "source": [
        "# Establecer la conexión con mi drive\n",
        "drive.mount('/content/drive')"
      ],
      "metadata": {
        "id": "iW0n4E7rw1i1"
      },
      "execution_count": null,
      "outputs": []
    },
    {
      "cell_type": "markdown",
      "source": [
        "# Datos\n",
        "\n",
        "El conjunto de datos recupera información sobre los clientes de un banco. Éstos datos fueron construídos para el análisis sobre la cancelación de productos creditios por parte de algunos clientes. Las variables disponibles son las siguientes:\n",
        "\n",
        "* **CLIENTNUM**: Número de cliente. Identificador único del cliente titular de la cuenta\n",
        "* **Attrition_Flag**: Actividad del cliente - Cliente que abandonó o cliente que aún existe\n",
        "* **Customer_Age**: Variable demográfica - Edad del cliente en años\n",
        "* **Gender**: Variable demográfica - M=Male, F=Female\n",
        "* **Dependent_count**: Variable demográfica - Número de dependientes\n",
        "* **Education_Level**: Variable demográfica**: Nivel educativo - Nivel educativo del titular de la cuenta (high school, college graduate, etc.)\n",
        "* **Marital_Status**: Variable demográfica**: Estado civil - Married, Single, Divorced, Unknow\n",
        "* **Income**: Variable demográfica**: Ingreso - Ingreso anual del titular de la cuenta\n",
        "* **Card_Category**: Varible del producto - Tipo de la tarjeta (Blue, Silver, Gold, Platinum)\n",
        "* **Months_on_book**: Periodo de relación con el banco\n",
        "* **Total_Relationship_Count**: Número total de productos obtenidos por el cliente\n",
        "* **Months_Inactive_12_mon**: Número de meses inactivo en los últimos 12 meses\n",
        "* **Contacts_Count_12_mon**: Número de contactos en los últimos 12 meses\n",
        "* **Credit_Limit**: Límite de crédito en la tarjeta de crédito\n",
        "* **Total_Revolving_Bal**: Saldo rotatorio total en la tarjeta de crédito\n",
        "* **Avg_Open_To_Buy**: Línea de crédito abierta para comprar (promedio de los últimos 12 meses)\n",
        "* **Total_Amt_Chng_Q4_Q1**: Cambio en el monto de la transacción (Q4 sobre Q1)\n",
        "* **Total_Trans_Amt**: Monto total de transacción (últimos 12 meses)\n",
        "* **Total_Trans_Ct**: Cantidad total de transacciones (últimos 12 meses)\n",
        "* **Total_Ct_Chng_Q4_Q1**: Cambio en la cantidad total de transacciones (Q4 sobre Q1)\n",
        "* **Avg_Utilization_Ratio**: Ratio de uso promedio de la tarjeta"
      ],
      "metadata": {
        "id": "2oJAXwIobs6k"
      }
    },
    {
      "cell_type": "code",
      "source": [
        "# Importar los datos\n",
        "bank_attrited = pd.read_excel('')\n",
        "bank_attrited"
      ],
      "metadata": {
        "id": "sgzZeoCOaru4"
      },
      "execution_count": null,
      "outputs": []
    },
    {
      "cell_type": "markdown",
      "source": [
        "## Exploración Inicial"
      ],
      "metadata": {
        "id": "ICABsQq8bpMk"
      }
    },
    {
      "cell_type": "code",
      "source": [
        "# Tipo de objeto\n",
        "type(bank_attrited)"
      ],
      "metadata": {
        "id": "fDLMmXlWbXF5"
      },
      "execution_count": null,
      "outputs": []
    },
    {
      "cell_type": "code",
      "source": [
        "# Tipo de datos por variable\n",
        "bank_attrited.dtypes"
      ],
      "metadata": {
        "id": "DrD1ueQSbYgo"
      },
      "execution_count": null,
      "outputs": []
    },
    {
      "cell_type": "code",
      "source": [
        "# Dimensiones\n",
        "bank_attrited.shape"
      ],
      "metadata": {
        "id": "ff04AbdJbbUQ"
      },
      "execution_count": null,
      "outputs": []
    },
    {
      "cell_type": "code",
      "source": [
        "# Conteo de datos nulos\n",
        "bank_attrited.isna().sum()"
      ],
      "metadata": {
        "id": "k8CgRb4VbcoI"
      },
      "execution_count": null,
      "outputs": []
    },
    {
      "cell_type": "code",
      "source": [
        "# Información general\n",
        "bank_attrited.info()"
      ],
      "metadata": {
        "id": "joeslCT6bi3E"
      },
      "execution_count": null,
      "outputs": []
    },
    {
      "cell_type": "code",
      "source": [
        "# Eliminar variable identificadora\n",
        "datos = bank_attrited.copy()\n",
        "datos.drop(columns='CLIENTNUM', inplace=True)"
      ],
      "metadata": {
        "id": "liWAU_JZfWm-"
      },
      "execution_count": 8,
      "outputs": []
    },
    {
      "cell_type": "markdown",
      "source": [
        "# Medidas Univariadas"
      ],
      "metadata": {
        "id": "OlaiOLeGbmKY"
      }
    },
    {
      "cell_type": "code",
      "source": [
        "# Resumen descriptivo para variables numéricas\n",
        "descriptiva = datos.describe()\n",
        "descriptiva"
      ],
      "metadata": {
        "id": "vJPzXtIgjmiH"
      },
      "execution_count": null,
      "outputs": []
    },
    {
      "cell_type": "markdown",
      "source": [
        "### Análisis de frecuencia"
      ],
      "metadata": {
        "id": "nkm8rSLEaSIn"
      }
    },
    {
      "cell_type": "markdown",
      "source": [
        "#### Deserción"
      ],
      "metadata": {
        "id": "gU7zclDykT2C"
      }
    },
    {
      "cell_type": "code",
      "source": [
        "datos['Attrition_Flag'].value_counts()"
      ],
      "metadata": {
        "id": "D8wI8Vsvb2TW"
      },
      "execution_count": null,
      "outputs": []
    },
    {
      "cell_type": "code",
      "source": [
        "datos['Attrition_Flag'].value_counts(normalize=True)"
      ],
      "metadata": {
        "id": "bcuZ9b84aeXV"
      },
      "execution_count": null,
      "outputs": []
    },
    {
      "cell_type": "code",
      "source": [
        "plt.figure(figsize=(7, 4))\n",
        "sns.countplot(x='Attrition_Flag', data=datos,\n",
        "              palette=['green', 'yellow'], saturation=0.5)\n",
        "plt.title('Frecuencia de deserción', size=20)\n",
        "plt.xlabel('Etiqueta')\n",
        "plt.ylabel('Clientes')\n",
        "plt.show()"
      ],
      "metadata": {
        "id": "IkaUmbDAao6t"
      },
      "execution_count": null,
      "outputs": []
    },
    {
      "cell_type": "markdown",
      "source": [
        "#### Género"
      ],
      "metadata": {
        "id": "lYntthy1kbqt"
      }
    },
    {
      "cell_type": "code",
      "source": [
        "datos['Gender'].value_counts()"
      ],
      "metadata": {
        "id": "bBjH4tKscqxC"
      },
      "execution_count": null,
      "outputs": []
    },
    {
      "cell_type": "code",
      "source": [
        "datos['Gender'].value_counts(normalize=True)"
      ],
      "metadata": {
        "id": "dkLOHy1mcyqF"
      },
      "execution_count": null,
      "outputs": []
    },
    {
      "cell_type": "code",
      "source": [
        "plt.figure(figsize=(7, 4))\n",
        "sns.countplot(y='Gender', data=datos,\n",
        "              palette='Dark2', saturation=0.5)\n",
        "plt.title('Frecuencia de deserción', size=20)\n",
        "plt.xlabel('Etiqueta')\n",
        "plt.ylabel('Clientes')\n",
        "plt.show()"
      ],
      "metadata": {
        "id": "G8DY8Yjec2xk"
      },
      "execution_count": null,
      "outputs": []
    },
    {
      "cell_type": "markdown",
      "source": [
        "#### Ejercicio:\n",
        "\n",
        "Haga un breve análisis de frecuencias absolutas y relativas de la variable ***Education_Level***."
      ],
      "metadata": {
        "id": "40a3bsRjkeoF"
      }
    },
    {
      "cell_type": "code",
      "source": [
        "# ------ ELIMINE ESTA LÍNEA Y ESCRIBA SU CÓDIGO AQUÍ ------"
      ],
      "metadata": {
        "id": "d9gIhx-TkxSj"
      },
      "execution_count": null,
      "outputs": []
    },
    {
      "cell_type": "code",
      "source": [
        "# ------ ELIMINE ESTA LÍNEA Y ESCRIBA SU CÓDIGO AQUÍ ------"
      ],
      "metadata": {
        "id": "pcaIYS6HlAa4"
      },
      "execution_count": null,
      "outputs": []
    },
    {
      "cell_type": "code",
      "source": [
        "# ------ ELIMINE ESTA LÍNEA Y ESCRIBA SU CÓDIGO AQUÍ ------"
      ],
      "metadata": {
        "id": "_aPt0phOlAml"
      },
      "execution_count": null,
      "outputs": []
    },
    {
      "cell_type": "markdown",
      "source": [
        "### Análisis de distribución"
      ],
      "metadata": {
        "id": "S43tgamfjtMv"
      }
    },
    {
      "cell_type": "markdown",
      "source": [
        "#### Histogramas"
      ],
      "metadata": {
        "id": "iD68kVMelD_Q"
      }
    },
    {
      "cell_type": "code",
      "source": [
        "# Histograma\n",
        "plt.figure(figsize=(5, 3))\n",
        "sns.histplot(datos['Customer_Age'])\n",
        "plt.title('Distribución de Edad', size=17)\n",
        "plt.xlabel('Edad')\n",
        "plt.ylabel('Frecuencia')\n",
        "plt.show()"
      ],
      "metadata": {
        "id": "zHVo81RUjwcm"
      },
      "execution_count": null,
      "outputs": []
    },
    {
      "cell_type": "code",
      "source": [
        "# Histograma con kde\n",
        "plt.figure(figsize=(5, 3))\n",
        "sns.histplot(datos['Customer_Age'], kde=True)\n",
        "plt.title('Distribución de Edad', size=17)\n",
        "plt.xlabel('Edad')\n",
        "plt.ylabel('Frecuencia')\n",
        "plt.show()"
      ],
      "metadata": {
        "id": "tAlqftTKlTbx"
      },
      "execution_count": null,
      "outputs": []
    },
    {
      "cell_type": "code",
      "source": [
        "# Gráfico de densidad\n",
        "plt.figure(figsize=(5, 3))\n",
        "sns.kdeplot(datos['Customer_Age'], fill=True)\n",
        "plt.title('Distribución de Edad', size=17)\n",
        "plt.xlabel('Edad')\n",
        "plt.ylabel('Densidad')\n",
        "plt.show()"
      ],
      "metadata": {
        "id": "lDxh-qSAlXD4"
      },
      "execution_count": null,
      "outputs": []
    },
    {
      "cell_type": "code",
      "source": [
        "# Gráfico de densidad por categoría\n",
        "plt.figure(figsize=(7, 3))\n",
        "sns.kdeplot(x='Customer_Age', hue='Attrition_Flag', data=datos, fill=True)\n",
        "plt.title('Distribución de Edad', size=17)\n",
        "plt.xlabel('Edad')\n",
        "plt.ylabel('Densidad')\n",
        "plt.show()"
      ],
      "metadata": {
        "id": "qwVDte24i16P"
      },
      "execution_count": null,
      "outputs": []
    },
    {
      "cell_type": "code",
      "source": [
        "# Malla de gráficos\n",
        "\n",
        "## Configuración general del gráfico\n",
        "plt.figure(figsize=(15, 10))\n",
        "plt.suptitle('Distribución de Edad', size=20)\n",
        "\n",
        "## Primer gráfico\n",
        "### La malla tendrá dos filas, dos columnas y éste será el primer gráfico\n",
        "plt.subplot(2, 2, 1)\n",
        "### Gráfico\n",
        "sns.histplot(datos['Customer_Age'])\n",
        "plt.title('Histograma', size=15)\n",
        "plt.xlabel('Edad')\n",
        "plt.ylabel('Frecuencia')\n",
        "\n",
        "## Segundo gráfico\n",
        "### La malla tendrá dos filas, dos columnas y éste será el segundo gráfico\n",
        "plt.subplot(2, 2, 2)\n",
        "### Gráfico\n",
        "sns.histplot(datos['Customer_Age'], kde=True)\n",
        "plt.title('Histograma con densidad', size=15)\n",
        "plt.xlabel('Edad')\n",
        "plt.ylabel('Frecuencia')\n",
        "\n",
        "## Tercer gráfico\n",
        "### La malla tendrá dos filas, dos columnas y éste será el tercer gráfico\n",
        "plt.subplot(2, 2, 3)\n",
        "### Gráfico\n",
        "sns.kdeplot(datos['Customer_Age'], fill=True)\n",
        "plt.title('Gráfico de densidad', size=15)\n",
        "plt.xlabel('Edad')\n",
        "plt.ylabel('Densidad')\n",
        "\n",
        "## Cuarto gráfico\n",
        "### La malla tendrá dos filas, dos columnas y éste será el cuarto gráfico\n",
        "plt.subplot(2, 2, 4)\n",
        "### Gráfico\n",
        "sns.kdeplot(x='Customer_Age', hue='Attrition_Flag', data=datos, fill=True)\n",
        "plt.title('Gráfico de densidad por categoría', size=15)\n",
        "plt.xlabel('Edad')\n",
        "plt.ylabel('Densidad')\n",
        "\n",
        "## Visualizar el gráfico\n",
        "plt.show()"
      ],
      "metadata": {
        "id": "7ccc5wZNlwfD"
      },
      "execution_count": null,
      "outputs": []
    },
    {
      "cell_type": "markdown",
      "source": [
        "#### Boxplots"
      ],
      "metadata": {
        "id": "SWHKPt3SlyZ3"
      }
    },
    {
      "cell_type": "code",
      "source": [
        "sns.boxplot(y='Customer_Age', data=datos)\n",
        "plt.show()"
      ],
      "metadata": {
        "id": "2PDEnqdCiF-q"
      },
      "execution_count": null,
      "outputs": []
    },
    {
      "cell_type": "markdown",
      "source": [
        "#### Ejercicio:\n",
        "\n",
        "Haga un breve análisis de distribucion para la variable ***Credit_Limit***. Presente 3 gráficas distintas en una sola imagen de 1 fila y 3 columnas."
      ],
      "metadata": {
        "id": "74skKt1ol3Aw"
      }
    },
    {
      "cell_type": "code",
      "source": [
        "# ------ ELIMINE ESTA LÍNEA Y ESCRIBA SU CÓDIGO AQUÍ ------"
      ],
      "metadata": {
        "id": "SOe8dIibmKaO"
      },
      "execution_count": null,
      "outputs": []
    },
    {
      "cell_type": "markdown",
      "source": [
        "### Medidas de tendencia central"
      ],
      "metadata": {
        "id": "FYf0iD1FeTVs"
      }
    },
    {
      "cell_type": "markdown",
      "source": [
        "#### Media"
      ],
      "metadata": {
        "id": "A2hlZjcleqN7"
      }
    },
    {
      "cell_type": "code",
      "source": [
        "descriptiva.loc['mean', :]"
      ],
      "metadata": {
        "id": "DhCQG_mOe8_6"
      },
      "execution_count": null,
      "outputs": []
    },
    {
      "cell_type": "code",
      "source": [
        "datos.mean(numeric_only=True)"
      ],
      "metadata": {
        "id": "jY8OU50we_T5"
      },
      "execution_count": null,
      "outputs": []
    },
    {
      "cell_type": "markdown",
      "source": [
        "#### Mediana"
      ],
      "metadata": {
        "id": "ORFIYBobB_Lm"
      }
    },
    {
      "cell_type": "code",
      "source": [
        "descriptiva.loc['50%', :]"
      ],
      "metadata": {
        "id": "ofqT7dHLcc0u"
      },
      "execution_count": null,
      "outputs": []
    },
    {
      "cell_type": "code",
      "source": [
        "datos.median(numeric_only=True)"
      ],
      "metadata": {
        "id": "l3P9jUkQcvM_"
      },
      "execution_count": null,
      "outputs": []
    },
    {
      "cell_type": "markdown",
      "source": [
        "#### Moda"
      ],
      "metadata": {
        "id": "3nft4EYFCDGH"
      }
    },
    {
      "cell_type": "code",
      "source": [
        "datos.mode()"
      ],
      "metadata": {
        "id": "s1ZTzhH1AxkF"
      },
      "execution_count": null,
      "outputs": []
    },
    {
      "cell_type": "code",
      "source": [
        "datos['Marital_Status'].value_counts().index[0]"
      ],
      "metadata": {
        "id": "mNrGng-4g1yu"
      },
      "execution_count": null,
      "outputs": []
    },
    {
      "cell_type": "code",
      "source": [
        "datos['Marital_Status'].value_counts().to_frame().iloc[0]"
      ],
      "metadata": {
        "id": "QEUDKI8xf815"
      },
      "execution_count": null,
      "outputs": []
    },
    {
      "cell_type": "code",
      "source": [
        "datos['Marital_Status'].mode()"
      ],
      "metadata": {
        "id": "i0o9RnlkdxIg"
      },
      "execution_count": null,
      "outputs": []
    },
    {
      "cell_type": "markdown",
      "source": [
        "### Medidas de Forma"
      ],
      "metadata": {
        "id": "DezdCK2mea4O"
      }
    },
    {
      "cell_type": "markdown",
      "source": [
        "#### Kurtosis"
      ],
      "metadata": {
        "id": "VJtQdAC1CMHm"
      }
    },
    {
      "cell_type": "code",
      "source": [
        "datos.kurtosis(numeric_only=True)"
      ],
      "metadata": {
        "id": "nFeEwabGec_-"
      },
      "execution_count": null,
      "outputs": []
    },
    {
      "cell_type": "markdown",
      "source": [
        "#### Asimetría"
      ],
      "metadata": {
        "id": "oCJB59yvCPSN"
      }
    },
    {
      "cell_type": "code",
      "source": [
        "datos.skew(numeric_only=True)"
      ],
      "metadata": {
        "id": "fWPE5JLpeuDs"
      },
      "execution_count": null,
      "outputs": []
    },
    {
      "cell_type": "markdown",
      "source": [
        "### Medidas de Posición"
      ],
      "metadata": {
        "id": "eUIT5BpwfPyc"
      }
    },
    {
      "cell_type": "markdown",
      "source": [
        "#### Cuartiles"
      ],
      "metadata": {
        "id": "NWZYkO2RCUiw"
      }
    },
    {
      "cell_type": "code",
      "source": [
        "descriptiva"
      ],
      "metadata": {
        "id": "i6Ekvx5UGvgz"
      },
      "execution_count": null,
      "outputs": []
    },
    {
      "cell_type": "code",
      "source": [
        "descriptiva.loc['25%':, :]"
      ],
      "metadata": {
        "id": "UpeMBkCEfTC9"
      },
      "execution_count": null,
      "outputs": []
    },
    {
      "cell_type": "markdown",
      "source": [
        "#### Percentiles"
      ],
      "metadata": {
        "id": "MYHXahzqCX_3"
      }
    },
    {
      "cell_type": "code",
      "source": [
        "datos.quantile(0.1, numeric_only=True)"
      ],
      "metadata": {
        "id": "h6iRldAGfy7U"
      },
      "execution_count": null,
      "outputs": []
    },
    {
      "cell_type": "code",
      "source": [
        "datos.quantile(0.2, numeric_only=True)"
      ],
      "metadata": {
        "id": "ifpvSljaf6O-"
      },
      "execution_count": null,
      "outputs": []
    },
    {
      "cell_type": "code",
      "source": [
        "datos.quantile(0.25, numeric_only=True)"
      ],
      "metadata": {
        "id": "WhLj-365f982"
      },
      "execution_count": null,
      "outputs": []
    },
    {
      "cell_type": "markdown",
      "source": [
        "#### Deciles"
      ],
      "metadata": {
        "id": "h80RwONjCepm"
      }
    },
    {
      "cell_type": "code",
      "source": [
        "datos.quantile(np.arange(0, 1.1, 0.1), numeric_only=True)"
      ],
      "metadata": {
        "id": "9cueOR67glbI"
      },
      "execution_count": null,
      "outputs": []
    },
    {
      "cell_type": "markdown",
      "source": [
        "#### Quintiles"
      ],
      "metadata": {
        "id": "ENCcW2KIChwN"
      }
    },
    {
      "cell_type": "code",
      "source": [
        "datos.quantile(np.arange(0, 1.1, 0.2), numeric_only=True)"
      ],
      "metadata": {
        "id": "WGsPG9D0gzYA"
      },
      "execution_count": null,
      "outputs": []
    },
    {
      "cell_type": "markdown",
      "source": [
        "#### Cuartiles"
      ],
      "metadata": {
        "id": "wDmml1lfsUSs"
      }
    },
    {
      "cell_type": "code",
      "source": [
        "datos.quantile(np.arange(0, 1.1, 0.25), numeric_only=True)"
      ],
      "metadata": {
        "id": "ntnlO3UHg24t"
      },
      "execution_count": null,
      "outputs": []
    },
    {
      "cell_type": "markdown",
      "source": [
        "### Medidas de Dispersión"
      ],
      "metadata": {
        "id": "BXYbxbxbiFJj"
      }
    },
    {
      "cell_type": "markdown",
      "source": [
        "#### Rango"
      ],
      "metadata": {
        "id": "iVK1SmogCoG2"
      }
    },
    {
      "cell_type": "code",
      "source": [
        "descriptiva.loc[['min', 'max'], :]"
      ],
      "metadata": {
        "id": "1LQyJpNkiGyP"
      },
      "execution_count": null,
      "outputs": []
    },
    {
      "cell_type": "markdown",
      "source": [
        "#### Varianza"
      ],
      "metadata": {
        "id": "TXR_zZ94Cr3m"
      }
    },
    {
      "cell_type": "code",
      "source": [
        "descriptiva"
      ],
      "metadata": {
        "id": "QMzR-fTVKdXX"
      },
      "execution_count": null,
      "outputs": []
    },
    {
      "cell_type": "code",
      "source": [
        "datos.var(numeric_only=True)"
      ],
      "metadata": {
        "id": "E2ep8CsRi1sw"
      },
      "execution_count": null,
      "outputs": []
    },
    {
      "cell_type": "markdown",
      "source": [
        "#### Desviación Estándar"
      ],
      "metadata": {
        "id": "WETP6aVzCpu2"
      }
    },
    {
      "cell_type": "code",
      "source": [
        "descriptiva.loc['std', :]"
      ],
      "metadata": {
        "id": "RzF5d-L9icO_"
      },
      "execution_count": null,
      "outputs": []
    },
    {
      "cell_type": "code",
      "source": [
        "datos.std(numeric_only=True)"
      ],
      "metadata": {
        "id": "OJGotXntivsO"
      },
      "execution_count": null,
      "outputs": []
    },
    {
      "cell_type": "markdown",
      "source": [
        "#### Coeficiente de Varianza"
      ],
      "metadata": {
        "id": "hr26zOfnLFDD"
      }
    },
    {
      "cell_type": "code",
      "source": [
        "datos.std(numeric_only=True)/datos.mean(numeric_only=True)"
      ],
      "metadata": {
        "id": "bADlCS2VLHi1"
      },
      "execution_count": null,
      "outputs": []
    },
    {
      "cell_type": "markdown",
      "source": [
        "### Ejercicio:\n",
        "\n",
        "Haga un breve análisis descriptivo de la variable ***Total_Amt_Chng_Q4_Q1***. Mencione aspectos importantes sobre sus valores centrales, su dispersión, distribución y forma."
      ],
      "metadata": {
        "id": "qk4xp4hUmeVs"
      }
    },
    {
      "cell_type": "markdown",
      "source": [
        "<center>\n",
        "    <font size=\"4\" color=\"red\"><i>Su respuesta aquí</i></font><br>\n",
        "</center>\n",
        "\n",
        "*Respuesta*"
      ],
      "metadata": {
        "id": "D-6v0KXxm1eT"
      }
    },
    {
      "cell_type": "markdown",
      "source": [
        "# Medidas Multivariadas"
      ],
      "metadata": {
        "id": "Gh6FQNaFoYcR"
      }
    },
    {
      "cell_type": "markdown",
      "source": [
        "## Análisis de frecuencias cruzadas"
      ],
      "metadata": {
        "id": "5cN9apkmjeX_"
      }
    },
    {
      "cell_type": "code",
      "source": [
        "# Tabla de contingencia con valores absolutos\n",
        "pd.crosstab(datos['Attrition_Flag'],\n",
        "            datos['Gender'])"
      ],
      "metadata": {
        "id": "mS_1QAfmo792"
      },
      "execution_count": null,
      "outputs": []
    },
    {
      "cell_type": "code",
      "source": [
        "# Tabla de contingencia con valores absolutos y totales\n",
        "pd.crosstab(datos['Attrition_Flag'],\n",
        "            datos['Gender'],\n",
        "            margins=True)"
      ],
      "metadata": {
        "id": "gQ2sr1XNuaBX"
      },
      "execution_count": null,
      "outputs": []
    },
    {
      "cell_type": "code",
      "source": [
        "# Tabla de contingencia con valores relativos por filas\n",
        "pd.crosstab(datos['Attrition_Flag'],\n",
        "            datos['Gender'],\n",
        "            normalize='index',\n",
        "            margins=True)"
      ],
      "metadata": {
        "id": "HHbGQwBRu5Rn"
      },
      "execution_count": null,
      "outputs": []
    },
    {
      "cell_type": "code",
      "source": [
        "# Tabla de contingencia con valores relativos por columnas\n",
        "pd.crosstab(datos['Attrition_Flag'],\n",
        "            datos['Gender'],\n",
        "            normalize='columns',\n",
        "            margins=True)"
      ],
      "metadata": {
        "id": "u0E_NqB2vA0J"
      },
      "execution_count": null,
      "outputs": []
    },
    {
      "cell_type": "code",
      "source": [
        "# Tabla de contingencia con valores relativos totales\n",
        "pd.crosstab(datos['Attrition_Flag'],\n",
        "            datos['Gender'],\n",
        "            normalize='all',\n",
        "            margins=True)"
      ],
      "metadata": {
        "id": "cJ7-214mvTeA"
      },
      "execution_count": null,
      "outputs": []
    },
    {
      "cell_type": "code",
      "source": [
        "# Heatmap de frecuencias cruzadas\n",
        "cross_ag = pd.crosstab(datos['Attrition_Flag'],\n",
        "                       datos['Gender'],\n",
        "                       normalize='index')\n",
        "\n",
        "plt.figure(figsize=(5, 3))\n",
        "sns.heatmap(cross_ag, annot=True,\n",
        "            cmap='Blues',\n",
        "            linewidths=0.5,\n",
        "            linecolor='black',\n",
        "            fmt = \".3f\",\n",
        "            vmin=0, vmax=1)\n",
        "plt.show()"
      ],
      "metadata": {
        "id": "akJvkxnNob_I"
      },
      "execution_count": null,
      "outputs": []
    },
    {
      "cell_type": "markdown",
      "source": [
        "#### Ejercicio:\n",
        "\n",
        "Realice un breve análisis de frecuencias cruzadas para las variables ***Attrition_Flag*** (filas) y ***Card_Category*** (columnas). Haga un heatmap mostrando las frecuencias relativas por columnas."
      ],
      "metadata": {
        "id": "jM71pq-8oOCb"
      }
    },
    {
      "cell_type": "code",
      "source": [
        "# ------ ELIMINE ESTA LÍNEA Y ESCRIBA SU CÓDIGO AQUÍ ------"
      ],
      "metadata": {
        "id": "_XjfiVWgopCf"
      },
      "execution_count": null,
      "outputs": []
    },
    {
      "cell_type": "markdown",
      "source": [
        "## Análisis de dispersión"
      ],
      "metadata": {
        "id": "IciDpdhIWwwE"
      }
    },
    {
      "cell_type": "markdown",
      "source": [
        "### Gráfico de dispersión"
      ],
      "metadata": {
        "id": "UYnESpvgpmEA"
      }
    },
    {
      "cell_type": "code",
      "source": [
        "# Dispersión entre dos variables\n",
        "sns.scatterplot(x='Total_Trans_Amt', y='Total_Trans_Ct', data=datos,)\n",
        "plt.show()"
      ],
      "metadata": {
        "id": "84DHTDz8XNHB"
      },
      "execution_count": null,
      "outputs": []
    },
    {
      "cell_type": "code",
      "source": [
        "# Dispersión entre dos variables por categoría\n",
        "sns.scatterplot(x='Total_Trans_Amt', y='Total_Trans_Ct',\n",
        "                hue='Attrition_Flag', data=datos)\n",
        "plt.show()"
      ],
      "metadata": {
        "id": "mdtQxx2QZ09R"
      },
      "execution_count": null,
      "outputs": []
    },
    {
      "cell_type": "markdown",
      "source": [
        "### Jointplots"
      ],
      "metadata": {
        "id": "R89YBuo6ptu0"
      }
    },
    {
      "cell_type": "code",
      "source": [
        "# Gráfico de dispersión y distribución por variable\n",
        "sns.jointplot(x='Total_Trans_Amt', y='Total_Trans_Ct',\n",
        "              data=datos, kind='scatter')\n",
        "plt.show()"
      ],
      "metadata": {
        "id": "pCkS5ns2alaK"
      },
      "execution_count": null,
      "outputs": []
    },
    {
      "cell_type": "code",
      "source": [
        "# Gráfico de dispersión y distribución por variable y categoría\n",
        "sns.jointplot(x='Total_Trans_Amt', y='Total_Trans_Ct',\n",
        "              data=datos, hue='Attrition_Flag')\n",
        "plt.show()"
      ],
      "metadata": {
        "id": "KF0kuD2MbjGy"
      },
      "execution_count": null,
      "outputs": []
    },
    {
      "cell_type": "code",
      "source": [
        "# Gráfico de dispersión de los residuales\n",
        "sns.jointplot(x='Total_Trans_Amt', y='Total_Trans_Ct',\n",
        "              data=datos, kind='resid')\n",
        "plt.show()"
      ],
      "metadata": {
        "id": "EsgclB35bMQO"
      },
      "execution_count": null,
      "outputs": []
    },
    {
      "cell_type": "code",
      "source": [
        "# Gráfico de densidad en dos dimensiones\n",
        "sns.jointplot(x='Total_Trans_Amt', y='Total_Trans_Ct',\n",
        "              data=datos, kind='kde')\n",
        "plt.show()"
      ],
      "metadata": {
        "id": "tU6Wm15RbRsp"
      },
      "execution_count": null,
      "outputs": []
    },
    {
      "cell_type": "markdown",
      "source": [
        "### Gráfico de dispersión con línea de ajuste"
      ],
      "metadata": {
        "id": "xEWvM5CCqT2J"
      }
    },
    {
      "cell_type": "code",
      "source": [
        "# Dispersión con ajuste\n",
        "sns.lmplot(x='Total_Trans_Amt', y='Total_Trans_Ct', data=datos)\n",
        "plt.show()"
      ],
      "metadata": {
        "id": "QwMYIVd_bzfI"
      },
      "execution_count": null,
      "outputs": []
    },
    {
      "cell_type": "code",
      "source": [
        "# Dispersión con ajuste por categoría\n",
        "sns.lmplot(x='Total_Trans_Amt', y='Total_Trans_Ct',\n",
        "           hue='Attrition_Flag', data=datos)\n",
        "plt.show()"
      ],
      "metadata": {
        "id": "-51Wwlhub4y5"
      },
      "execution_count": null,
      "outputs": []
    },
    {
      "cell_type": "code",
      "source": [
        "# Dispersión con ajuste por categoría usando facets\n",
        "sns.lmplot(x='Total_Trans_Amt', y='Total_Trans_Ct',\n",
        "           col='Attrition_Flag', data=datos)\n",
        "plt.show()"
      ],
      "metadata": {
        "id": "WzStAqiedn7F"
      },
      "execution_count": null,
      "outputs": []
    },
    {
      "cell_type": "code",
      "source": [
        "# Dispersión con ajuste y doble división categórica\n",
        "sns.lmplot(x='Total_Trans_Amt', y='Total_Trans_Ct',\n",
        "           col='Attrition_Flag', row='Card_Category', data=datos)\n",
        "plt.show()"
      ],
      "metadata": {
        "id": "CaQHMa8yduX5"
      },
      "execution_count": null,
      "outputs": []
    },
    {
      "cell_type": "markdown",
      "source": [
        "### Ejercicio:\n",
        "\n",
        "Haga un breve análisis de dispersión entre las variables ***Total_Amt_Chng_Q4_Q1*** y ***Total_Ct_Chng_Q4_Q1***. ¿Evidencia algún tipo de relación? Haga uso de los gráficos necesarios vistos en esta sección para responder la pregunta. ¿Tiene sentido el resultado?"
      ],
      "metadata": {
        "id": "wUD2qrlbrBtc"
      }
    },
    {
      "cell_type": "code",
      "source": [
        "# ------ ELIMINE ESTA LÍNEA Y ESCRIBA SU CÓDIGO AQUÍ ------"
      ],
      "metadata": {
        "id": "5X1QdipnrYsS"
      },
      "execution_count": null,
      "outputs": []
    },
    {
      "cell_type": "markdown",
      "source": [
        "<center>\n",
        "    <font size=\"4\" color=\"red\"><i>Su respuesta aquí</i></font><br>\n",
        "</center>\n",
        "\n",
        "*Respuesta*"
      ],
      "metadata": {
        "id": "d5Q3W3yormr9"
      }
    },
    {
      "cell_type": "markdown",
      "source": [
        "### Pairplots"
      ],
      "metadata": {
        "id": "C6DNnbq2qmtm"
      }
    },
    {
      "cell_type": "code",
      "source": [
        "# Definiendo variables numéricas\n",
        "num_continuas = [\n",
        "    'Attrition_Flag', 'Income', 'Customer_Age', 'Credit_Limit', 'Total_Revolving_Bal',\n",
        "    'Avg_Open_To_Buy', 'Total_Amt_Chng_Q4_Q1', 'Total_Trans_Amt',\n",
        "    'Total_Trans_Ct', 'Total_Ct_Chng_Q4_Q1', 'Avg_Utilization_Ratio']\n",
        "datos_num = datos[num_continuas]\n",
        "\n",
        "# Pairplot de variables numéricas\n",
        "sns.pairplot(datos_num)\n",
        "plt.show()"
      ],
      "metadata": {
        "id": "dapTNMMRd_rY"
      },
      "execution_count": 123,
      "outputs": []
    },
    {
      "cell_type": "code",
      "source": [
        "# Pairplot de variables numéricas por categorías\n",
        "sns.pairplot(datos_num, hue='Attrition_Flag')\n",
        "plt.show()"
      ],
      "metadata": {
        "id": "NEQ2QcPrfFWR"
      },
      "execution_count": null,
      "outputs": []
    },
    {
      "cell_type": "markdown",
      "source": [
        "## Análisis de distribución"
      ],
      "metadata": {
        "id": "165d7_uRhGgc"
      }
    },
    {
      "cell_type": "code",
      "source": [
        "# Distribución del ingreso por deserción\n",
        "sns.boxplot(x='Attrition_Flag', y='Income', data=datos)\n",
        "plt.show()"
      ],
      "metadata": {
        "id": "x5wopMU_hgKp"
      },
      "execution_count": null,
      "outputs": []
    },
    {
      "cell_type": "code",
      "source": [
        "# Distribución del ingreso por categoría de tarjeta\n",
        "sns.boxplot(x='Card_Category', y='Income', data=datos)\n",
        "plt.show()"
      ],
      "metadata": {
        "id": "6jjEpXa2hKMZ"
      },
      "execution_count": null,
      "outputs": []
    },
    {
      "cell_type": "markdown",
      "source": [
        "### Ejercicio:\n",
        "\n",
        "Haga un breve análisis de distribución entre ***Credit_Limit*** y ***Card_Category***. ¿Nota algún comportamiento particular en estas distribuciones por categoría? ¿Tiene sentido?"
      ],
      "metadata": {
        "id": "vWvSS3LTsEGf"
      }
    },
    {
      "cell_type": "code",
      "source": [
        "# ------ ELIMINE ESTA LÍNEA Y ESCRIBA SU CÓDIGO AQUÍ ------"
      ],
      "metadata": {
        "id": "TEhfCdZuhuwJ"
      },
      "execution_count": null,
      "outputs": []
    },
    {
      "cell_type": "markdown",
      "source": [
        "<center>\n",
        "    <font size=\"4\" color=\"red\"><i>Su respuesta aquí</i></font><br>\n",
        "</center>\n",
        "\n",
        "*Respuesta*"
      ],
      "metadata": {
        "id": "usvmVs6qskPy"
      }
    },
    {
      "cell_type": "markdown",
      "source": [
        "## Análisis de correlación"
      ],
      "metadata": {
        "id": "ClbHkSM3eJU8"
      }
    },
    {
      "cell_type": "code",
      "source": [
        "datos.cov(numeric_only=True)"
      ],
      "metadata": {
        "id": "V4iqnrFJePQW"
      },
      "execution_count": null,
      "outputs": []
    },
    {
      "cell_type": "code",
      "source": [
        "datos.corr(numeric_only=True) # Correlación de Pearson"
      ],
      "metadata": {
        "id": "izlcoYnvfMCu"
      },
      "execution_count": null,
      "outputs": []
    },
    {
      "cell_type": "code",
      "source": [
        "# Calcular la matriz de correlación\n",
        "corr_matrix = datos.corr(numeric_only=True)\n",
        "plt.figure(figsize=(8, 5))\n",
        "sns.heatmap(corr_matrix,\n",
        "            annot=True,\n",
        "            fmt = '.1f',\n",
        "            linewidths=0.5,\n",
        "            linecolor='black',\n",
        "            vmin=-1,\n",
        "            vmax=1,\n",
        "            cmap='coolwarm')\n",
        "plt.show()"
      ],
      "metadata": {
        "id": "VzN-uqX7fqjt"
      },
      "execution_count": null,
      "outputs": []
    },
    {
      "cell_type": "code",
      "source": [
        "# Matriz de correlación reducida\n",
        "\n",
        "# Variables que tienen alta correlación\n",
        "high_corrs = [\n",
        "              (i, j)\n",
        "              for i in corr_matrix.columns\n",
        "              for j in corr_matrix.index\n",
        "              if (np.abs(corr_matrix.loc[i, j]) >= 0.7) & (i != j)\n",
        "             ]\n",
        "\n",
        "# Lista con las variables después del filtro\n",
        "lista_high_corrs = []\n",
        "for i in range(len(high_corrs)):\n",
        "  el_1 = high_corrs[i][0]\n",
        "  el_2 = high_corrs[i][1]\n",
        "  lista_high_corrs.extend([el_1, el_2])\n",
        "\n",
        "# Variables únicas de la lista de variables\n",
        "vars_high_corrs = list(set(lista_high_corrs))\n",
        "\n",
        "# Matríz de correlación reducida\n",
        "small_corr_matrix = datos[vars_high_corrs].corr()\n",
        "\n",
        "# Heatmap de correlación\n",
        "plt.figure(figsize=(8, 5))\n",
        "sns.heatmap(small_corr_matrix,\n",
        "            annot=True,\n",
        "            linewidths=0.5,\n",
        "            linecolor='black',\n",
        "            vmin=-1,\n",
        "            vmax=1,\n",
        "            fmt = '.3f',\n",
        "            cmap='coolwarm')\n",
        "plt.show()"
      ],
      "metadata": {
        "id": "MLMyQlsHf8rZ"
      },
      "execution_count": null,
      "outputs": []
    }
  ]
}