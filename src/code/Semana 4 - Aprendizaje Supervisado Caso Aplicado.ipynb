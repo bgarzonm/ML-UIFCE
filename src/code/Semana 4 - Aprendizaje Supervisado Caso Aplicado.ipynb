{
  "cells": [
    {
      "cell_type": "markdown",
      "metadata": {
        "id": "vvI8RXa8VkQ_"
      },
      "source": [
        "<center>\n",
        "    <font size=\"5\" color=\"steelblue\"><b>Universidad Nacional de Colombia</b></font><br>\n",
        "    <font size=\"5\" color=\"steelblue\"><b>Unidad de Informática - Facultad de Ciencias Económicas</b></font><br>\n",
        "    <font size=\"5\" color=\"steelblue\"><b>Curso Libre Machine Learning con Python | 2023-1</b></font><br>\n",
        "    <font size=\"5\" color=\"steelblue\"><b>Semana 4: Aprendizaje Supervisado Caso Aplicado</b></font><br>\n",
        "    <font size=\"5\" color=\"steelblue\"><b>Estudiante Auxiliar: Jaime Andrés Fierro Aponte</b></font><br>\n",
        "</center>"
      ]
    },
    {
      "cell_type": "markdown",
      "metadata": {
        "id": "TxIopWnkWKwF"
      },
      "source": [
        "# Dependencias"
      ]
    },
    {
      "cell_type": "code",
      "execution_count": 4,
      "metadata": {
        "id": "f7P7a4oBWMlt"
      },
      "outputs": [],
      "source": [
        "# Manejo de datos\n",
        "import pandas as pd\n",
        "import numpy as np\n",
        "\n",
        "# Visualización\n",
        "import matplotlib.pyplot as plt\n",
        "# from matplotlib import pyplot as plt\n",
        "import seaborn as sns\n",
        "plt.style.use('ggplot')\n",
        "\n",
        "# Machine Learning\n",
        "from sklearn.preprocessing import StandardScaler, OneHotEncoder\n",
        "from sklearn.model_selection import train_test_split, GridSearchCV\n",
        "from imblearn.over_sampling import SMOTE\n",
        "\n",
        "from sklearn.naive_bayes import GaussianNB\n",
        "from sklearn.neighbors import KNeighborsClassifier\n",
        "from sklearn.tree import DecisionTreeClassifier\n",
        "from sklearn.ensemble import RandomForestClassifier\n",
        "from sklearn.ensemble import GradientBoostingClassifier\n",
        "from xgboost import XGBClassifier\n",
        "\n",
        "from sklearn.metrics import (confusion_matrix, classification_report,\n",
        "                             roc_curve, auc, balanced_accuracy_score)\n"
      ]
    },
    {
      "cell_type": "code",
      "execution_count": 5,
      "metadata": {
        "id": "gbliDxItZxyZ"
      },
      "outputs": [],
      "source": [
        "# Función para graficar el área bajo la curva ROC\n",
        "def auc_roc(y_true, y_predicted):\n",
        "\n",
        "  plt.figure(figsize=(5, 5))\n",
        "\n",
        "  tpr,fpr,_ = roc_curve(y_true, y_predicted)\n",
        "  roc_auc = 1 - auc(fpr, tpr)\n",
        "  plt.plot(tpr, fpr, color='darkorange', lw=2,\n",
        "          label='Curva ROC (area = %0.2f)' % roc_auc)\n",
        "  plt.plot([0, 1], [0, 1], color='navy', lw=2, linestyle='--')\n",
        "  plt.xlim([-0.05, 1.0])\n",
        "  plt.ylim([0.0, 1.05])\n",
        "  plt.xlabel('% Falso Positivo')\n",
        "  plt.ylabel('% Verdadero Positivo')\n",
        "  plt.title('Curva ROC')\n",
        "  plt.legend(loc='lower right')\n",
        "\n"
      ]
    },
    {
      "cell_type": "markdown",
      "metadata": {
        "id": "jZ_Bnn-wAhxk"
      },
      "source": [
        "# Importación de datos\n",
        "\n",
        "El conjunto de datos recupera información sobre los clientes de un banco. Éstos datos fueron construídos para el análisis sobre la cancelación de productos creditios por parte de algunos clientes. Las variables disponibles son las siguientes:\n",
        "\n",
        "* **CLIENTNUM**: Número de cliente. Identificador único del cliente titular de la cuenta\n",
        "* **Attrition_Flag**: Actividad del cliente - Cliente que abandonó o cliente que aún existe\n",
        "* **Customer_Age**: Variable demográfica - Edad del cliente en años\n",
        "* **Gender**: Variable demográfica - M=Male, F=Female\n",
        "* **Dependent_count**: Variable demográfica - Número de dependientes\n",
        "* **Education_Level**: Variable demográfica**: Nivel educativo - Nivel educativo del titular de la cuenta (high school, college graduate, etc.)\n",
        "* **Marital_Status**: Variable demográfica**: Estado civil - Married, Single, Divorced, Unknow\n",
        "* **Income**: Variable demográfica**: Ingreso - Ingreso anual del titular de la cuenta\n",
        "* **Card_Category**: Varible del producto - Tipo de la tarjeta (Blue, Silver, Gold, Platinum)\n",
        "* **Months_on_book**: Periodo de relación con el banco\n",
        "* **Total_Relationship_Count**: Número total de productos obtenidos por el cliente\n",
        "* **Months_Inactive_12_mon**: Número de meses inactivo en los últimos 12 meses\n",
        "* **Contacts_Count_12_mon**: Número de contactos en los últimos 12 meses\n",
        "* **Credit_Limit**: Límite de crédito en la tarjeta de crédito\n",
        "* **Total_Revolving_Bal**: Saldo rotatorio total en la tarjeta de crédito\n",
        "* **Avg_Open_To_Buy**: Línea de crédito abierta para comprar (promedio de los últimos 12 meses)\n",
        "* **Total_Amt_Chng_Q4_Q1**: Cambio en el monto de la transacción (Q4 sobre Q1)\n",
        "* **Total_Trans_Amt**: Monto total de transacción (últimos 12 meses)\n",
        "* **Total_Trans_Ct**: Cantidad total de transacciones (últimos 12 meses)\n",
        "* **Total_Ct_Chng_Q4_Q1**: Cambio en la cantidad total de transacciones (Q4 sobre Q1)\n",
        "* **Avg_Utilization_Ratio**: Ratio de uso promedio de la tarjeta"
      ]
    },
    {
      "cell_type": "code",
      "execution_count": 6,
      "metadata": {
        "id": "bxildhdGaVCc"
      },
      "outputs": [
        {
          "data": {
            "text/html": [
              "<div>\n",
              "<style scoped>\n",
              "    .dataframe tbody tr th:only-of-type {\n",
              "        vertical-align: middle;\n",
              "    }\n",
              "\n",
              "    .dataframe tbody tr th {\n",
              "        vertical-align: top;\n",
              "    }\n",
              "\n",
              "    .dataframe thead th {\n",
              "        text-align: right;\n",
              "    }\n",
              "</style>\n",
              "<table border=\"1\" class=\"dataframe\">\n",
              "  <thead>\n",
              "    <tr style=\"text-align: right;\">\n",
              "      <th></th>\n",
              "      <th>CLIENTNUM</th>\n",
              "      <th>Attrition_Flag</th>\n",
              "      <th>Customer_Age</th>\n",
              "      <th>Gender</th>\n",
              "      <th>Dependent_count</th>\n",
              "      <th>Education_Level</th>\n",
              "      <th>Marital_Status</th>\n",
              "      <th>Income</th>\n",
              "      <th>Card_Category</th>\n",
              "      <th>Months_on_book</th>\n",
              "      <th>...</th>\n",
              "      <th>Months_Inactive_12_mon</th>\n",
              "      <th>Contacts_Count_12_mon</th>\n",
              "      <th>Credit_Limit</th>\n",
              "      <th>Total_Revolving_Bal</th>\n",
              "      <th>Avg_Open_To_Buy</th>\n",
              "      <th>Total_Amt_Chng_Q4_Q1</th>\n",
              "      <th>Total_Trans_Amt</th>\n",
              "      <th>Total_Trans_Ct</th>\n",
              "      <th>Total_Ct_Chng_Q4_Q1</th>\n",
              "      <th>Avg_Utilization_Ratio</th>\n",
              "    </tr>\n",
              "  </thead>\n",
              "  <tbody>\n",
              "    <tr>\n",
              "      <th>0</th>\n",
              "      <td>768805383</td>\n",
              "      <td>Existing Customer</td>\n",
              "      <td>45</td>\n",
              "      <td>M</td>\n",
              "      <td>3</td>\n",
              "      <td>High School</td>\n",
              "      <td>Married</td>\n",
              "      <td>70376.50</td>\n",
              "      <td>Blue</td>\n",
              "      <td>39</td>\n",
              "      <td>...</td>\n",
              "      <td>1</td>\n",
              "      <td>3</td>\n",
              "      <td>12691.0</td>\n",
              "      <td>777</td>\n",
              "      <td>11914.0</td>\n",
              "      <td>1.335</td>\n",
              "      <td>1144</td>\n",
              "      <td>42.0</td>\n",
              "      <td>1.625</td>\n",
              "      <td>0.061</td>\n",
              "    </tr>\n",
              "    <tr>\n",
              "      <th>1</th>\n",
              "      <td>818770008</td>\n",
              "      <td>Existing Customer</td>\n",
              "      <td>49</td>\n",
              "      <td>F</td>\n",
              "      <td>5</td>\n",
              "      <td>Graduate</td>\n",
              "      <td>Single</td>\n",
              "      <td>20006.60</td>\n",
              "      <td>Blue</td>\n",
              "      <td>44</td>\n",
              "      <td>...</td>\n",
              "      <td>1</td>\n",
              "      <td>2</td>\n",
              "      <td>8256.0</td>\n",
              "      <td>864</td>\n",
              "      <td>7392.0</td>\n",
              "      <td>1.541</td>\n",
              "      <td>1291</td>\n",
              "      <td>33.0</td>\n",
              "      <td>3.714</td>\n",
              "      <td>0.105</td>\n",
              "    </tr>\n",
              "    <tr>\n",
              "      <th>2</th>\n",
              "      <td>713982108</td>\n",
              "      <td>Existing Customer</td>\n",
              "      <td>51</td>\n",
              "      <td>NaN</td>\n",
              "      <td>3</td>\n",
              "      <td>Graduate</td>\n",
              "      <td>Married</td>\n",
              "      <td>111901.58</td>\n",
              "      <td>Blue</td>\n",
              "      <td>36</td>\n",
              "      <td>...</td>\n",
              "      <td>1</td>\n",
              "      <td>0</td>\n",
              "      <td>3418.0</td>\n",
              "      <td>0</td>\n",
              "      <td>3418.0</td>\n",
              "      <td>2.594</td>\n",
              "      <td>1887</td>\n",
              "      <td>20.0</td>\n",
              "      <td>2.333</td>\n",
              "      <td>0.000</td>\n",
              "    </tr>\n",
              "    <tr>\n",
              "      <th>3</th>\n",
              "      <td>769911858</td>\n",
              "      <td>Existing Customer</td>\n",
              "      <td>40</td>\n",
              "      <td>F</td>\n",
              "      <td>4</td>\n",
              "      <td>High School</td>\n",
              "      <td>NaN</td>\n",
              "      <td>25607.43</td>\n",
              "      <td>Blue</td>\n",
              "      <td>34</td>\n",
              "      <td>...</td>\n",
              "      <td>4</td>\n",
              "      <td>1</td>\n",
              "      <td>3313.0</td>\n",
              "      <td>2517</td>\n",
              "      <td>796.0</td>\n",
              "      <td>1.405</td>\n",
              "      <td>1171</td>\n",
              "      <td>20.0</td>\n",
              "      <td>2.333</td>\n",
              "      <td>0.760</td>\n",
              "    </tr>\n",
              "    <tr>\n",
              "      <th>4</th>\n",
              "      <td>709106358</td>\n",
              "      <td>Existing Customer</td>\n",
              "      <td>40</td>\n",
              "      <td>M</td>\n",
              "      <td>3</td>\n",
              "      <td>Uneducated</td>\n",
              "      <td>Married</td>\n",
              "      <td>66669.58</td>\n",
              "      <td>Blue</td>\n",
              "      <td>21</td>\n",
              "      <td>...</td>\n",
              "      <td>1</td>\n",
              "      <td>0</td>\n",
              "      <td>4716.0</td>\n",
              "      <td>0</td>\n",
              "      <td>4716.0</td>\n",
              "      <td>2.175</td>\n",
              "      <td>816</td>\n",
              "      <td>28.0</td>\n",
              "      <td>2.500</td>\n",
              "      <td>0.000</td>\n",
              "    </tr>\n",
              "    <tr>\n",
              "      <th>...</th>\n",
              "      <td>...</td>\n",
              "      <td>...</td>\n",
              "      <td>...</td>\n",
              "      <td>...</td>\n",
              "      <td>...</td>\n",
              "      <td>...</td>\n",
              "      <td>...</td>\n",
              "      <td>...</td>\n",
              "      <td>...</td>\n",
              "      <td>...</td>\n",
              "      <td>...</td>\n",
              "      <td>...</td>\n",
              "      <td>...</td>\n",
              "      <td>...</td>\n",
              "      <td>...</td>\n",
              "      <td>...</td>\n",
              "      <td>...</td>\n",
              "      <td>...</td>\n",
              "      <td>...</td>\n",
              "      <td>...</td>\n",
              "      <td>...</td>\n",
              "    </tr>\n",
              "    <tr>\n",
              "      <th>10139</th>\n",
              "      <td>772366833</td>\n",
              "      <td>Existing Customer</td>\n",
              "      <td>50</td>\n",
              "      <td>M</td>\n",
              "      <td>2</td>\n",
              "      <td>Graduate</td>\n",
              "      <td>Single</td>\n",
              "      <td>45227.76</td>\n",
              "      <td>Blue</td>\n",
              "      <td>40</td>\n",
              "      <td>...</td>\n",
              "      <td>2</td>\n",
              "      <td>3</td>\n",
              "      <td>4003.0</td>\n",
              "      <td>1851</td>\n",
              "      <td>2152.0</td>\n",
              "      <td>0.703</td>\n",
              "      <td>15476</td>\n",
              "      <td>117.0</td>\n",
              "      <td>0.857</td>\n",
              "      <td>0.462</td>\n",
              "    </tr>\n",
              "    <tr>\n",
              "      <th>10140</th>\n",
              "      <td>710638233</td>\n",
              "      <td>Attrited Customer</td>\n",
              "      <td>41</td>\n",
              "      <td>M</td>\n",
              "      <td>2</td>\n",
              "      <td>NaN</td>\n",
              "      <td>Divorced</td>\n",
              "      <td>40187.47</td>\n",
              "      <td>Blue</td>\n",
              "      <td>25</td>\n",
              "      <td>...</td>\n",
              "      <td>2</td>\n",
              "      <td>3</td>\n",
              "      <td>4277.0</td>\n",
              "      <td>2186</td>\n",
              "      <td>2091.0</td>\n",
              "      <td>0.804</td>\n",
              "      <td>8764</td>\n",
              "      <td>69.0</td>\n",
              "      <td>0.683</td>\n",
              "      <td>0.511</td>\n",
              "    </tr>\n",
              "    <tr>\n",
              "      <th>10141</th>\n",
              "      <td>716506083</td>\n",
              "      <td>Attrited Customer</td>\n",
              "      <td>44</td>\n",
              "      <td>F</td>\n",
              "      <td>1</td>\n",
              "      <td>High School</td>\n",
              "      <td>Married</td>\n",
              "      <td>416.97</td>\n",
              "      <td>Blue</td>\n",
              "      <td>36</td>\n",
              "      <td>...</td>\n",
              "      <td>3</td>\n",
              "      <td>4</td>\n",
              "      <td>5409.0</td>\n",
              "      <td>0</td>\n",
              "      <td>5409.0</td>\n",
              "      <td>0.819</td>\n",
              "      <td>10291</td>\n",
              "      <td>60.0</td>\n",
              "      <td>0.818</td>\n",
              "      <td>0.000</td>\n",
              "    </tr>\n",
              "    <tr>\n",
              "      <th>10142</th>\n",
              "      <td>717406983</td>\n",
              "      <td>Attrited Customer</td>\n",
              "      <td>30</td>\n",
              "      <td>M</td>\n",
              "      <td>2</td>\n",
              "      <td>Graduate</td>\n",
              "      <td>NaN</td>\n",
              "      <td>44482.74</td>\n",
              "      <td>Blue</td>\n",
              "      <td>36</td>\n",
              "      <td>...</td>\n",
              "      <td>3</td>\n",
              "      <td>3</td>\n",
              "      <td>5281.0</td>\n",
              "      <td>0</td>\n",
              "      <td>5281.0</td>\n",
              "      <td>0.535</td>\n",
              "      <td>8395</td>\n",
              "      <td>62.0</td>\n",
              "      <td>0.722</td>\n",
              "      <td>0.000</td>\n",
              "    </tr>\n",
              "    <tr>\n",
              "      <th>10143</th>\n",
              "      <td>714337233</td>\n",
              "      <td>Attrited Customer</td>\n",
              "      <td>43</td>\n",
              "      <td>F</td>\n",
              "      <td>2</td>\n",
              "      <td>Graduate</td>\n",
              "      <td>Married</td>\n",
              "      <td>5834.73</td>\n",
              "      <td>Silver</td>\n",
              "      <td>25</td>\n",
              "      <td>...</td>\n",
              "      <td>2</td>\n",
              "      <td>4</td>\n",
              "      <td>10388.0</td>\n",
              "      <td>1961</td>\n",
              "      <td>8427.0</td>\n",
              "      <td>0.703</td>\n",
              "      <td>10294</td>\n",
              "      <td>61.0</td>\n",
              "      <td>0.649</td>\n",
              "      <td>0.189</td>\n",
              "    </tr>\n",
              "  </tbody>\n",
              "</table>\n",
              "<p>10144 rows × 21 columns</p>\n",
              "</div>"
            ],
            "text/plain": [
              "       CLIENTNUM     Attrition_Flag  Customer_Age Gender  Dependent_count  \\\n",
              "0      768805383  Existing Customer            45      M                3   \n",
              "1      818770008  Existing Customer            49      F                5   \n",
              "2      713982108  Existing Customer            51    NaN                3   \n",
              "3      769911858  Existing Customer            40      F                4   \n",
              "4      709106358  Existing Customer            40      M                3   \n",
              "...          ...                ...           ...    ...              ...   \n",
              "10139  772366833  Existing Customer            50      M                2   \n",
              "10140  710638233  Attrited Customer            41      M                2   \n",
              "10141  716506083  Attrited Customer            44      F                1   \n",
              "10142  717406983  Attrited Customer            30      M                2   \n",
              "10143  714337233  Attrited Customer            43      F                2   \n",
              "\n",
              "      Education_Level Marital_Status     Income Card_Category  Months_on_book  \\\n",
              "0         High School        Married   70376.50          Blue              39   \n",
              "1            Graduate         Single   20006.60          Blue              44   \n",
              "2            Graduate        Married  111901.58          Blue              36   \n",
              "3         High School            NaN   25607.43          Blue              34   \n",
              "4          Uneducated        Married   66669.58          Blue              21   \n",
              "...               ...            ...        ...           ...             ...   \n",
              "10139        Graduate         Single   45227.76          Blue              40   \n",
              "10140             NaN       Divorced   40187.47          Blue              25   \n",
              "10141     High School        Married     416.97          Blue              36   \n",
              "10142        Graduate            NaN   44482.74          Blue              36   \n",
              "10143        Graduate        Married    5834.73        Silver              25   \n",
              "\n",
              "       ...  Months_Inactive_12_mon  Contacts_Count_12_mon  Credit_Limit  \\\n",
              "0      ...                       1                      3       12691.0   \n",
              "1      ...                       1                      2        8256.0   \n",
              "2      ...                       1                      0        3418.0   \n",
              "3      ...                       4                      1        3313.0   \n",
              "4      ...                       1                      0        4716.0   \n",
              "...    ...                     ...                    ...           ...   \n",
              "10139  ...                       2                      3        4003.0   \n",
              "10140  ...                       2                      3        4277.0   \n",
              "10141  ...                       3                      4        5409.0   \n",
              "10142  ...                       3                      3        5281.0   \n",
              "10143  ...                       2                      4       10388.0   \n",
              "\n",
              "       Total_Revolving_Bal  Avg_Open_To_Buy  Total_Amt_Chng_Q4_Q1  \\\n",
              "0                      777          11914.0                 1.335   \n",
              "1                      864           7392.0                 1.541   \n",
              "2                        0           3418.0                 2.594   \n",
              "3                     2517            796.0                 1.405   \n",
              "4                        0           4716.0                 2.175   \n",
              "...                    ...              ...                   ...   \n",
              "10139                 1851           2152.0                 0.703   \n",
              "10140                 2186           2091.0                 0.804   \n",
              "10141                    0           5409.0                 0.819   \n",
              "10142                    0           5281.0                 0.535   \n",
              "10143                 1961           8427.0                 0.703   \n",
              "\n",
              "       Total_Trans_Amt  Total_Trans_Ct  Total_Ct_Chng_Q4_Q1  \\\n",
              "0                 1144            42.0                1.625   \n",
              "1                 1291            33.0                3.714   \n",
              "2                 1887            20.0                2.333   \n",
              "3                 1171            20.0                2.333   \n",
              "4                  816            28.0                2.500   \n",
              "...                ...             ...                  ...   \n",
              "10139            15476           117.0                0.857   \n",
              "10140             8764            69.0                0.683   \n",
              "10141            10291            60.0                0.818   \n",
              "10142             8395            62.0                0.722   \n",
              "10143            10294            61.0                0.649   \n",
              "\n",
              "       Avg_Utilization_Ratio  \n",
              "0                      0.061  \n",
              "1                      0.105  \n",
              "2                      0.000  \n",
              "3                      0.760  \n",
              "4                      0.000  \n",
              "...                      ...  \n",
              "10139                  0.462  \n",
              "10140                  0.511  \n",
              "10141                  0.000  \n",
              "10142                  0.000  \n",
              "10143                  0.189  \n",
              "\n",
              "[10144 rows x 21 columns]"
            ]
          },
          "execution_count": 6,
          "metadata": {},
          "output_type": "execute_result"
        }
      ],
      "source": [
        "# Importar los datos\n",
        "bank_attrited = pd.read_excel('../data/Bank Attrited Customers.xlsx')\n",
        "bank_attrited"
      ]
    },
    {
      "cell_type": "markdown",
      "metadata": {
        "id": "ICABsQq8bpMk"
      },
      "source": [
        "## Exploración Inicial"
      ]
    },
    {
      "cell_type": "code",
      "execution_count": 7,
      "metadata": {
        "id": "fDLMmXlWbXF5"
      },
      "outputs": [
        {
          "data": {
            "text/plain": [
              "pandas.core.frame.DataFrame"
            ]
          },
          "execution_count": 7,
          "metadata": {},
          "output_type": "execute_result"
        }
      ],
      "source": [
        "# Tipo de objeto\n",
        "type(bank_attrited)"
      ]
    },
    {
      "cell_type": "code",
      "execution_count": 8,
      "metadata": {
        "id": "DrD1ueQSbYgo"
      },
      "outputs": [
        {
          "data": {
            "text/plain": [
              "CLIENTNUM                     int64\n",
              "Attrition_Flag               object\n",
              "Customer_Age                  int64\n",
              "Gender                       object\n",
              "Dependent_count               int64\n",
              "Education_Level              object\n",
              "Marital_Status               object\n",
              "Income                      float64\n",
              "Card_Category                object\n",
              "Months_on_book                int64\n",
              "Total_Relationship_Count      int64\n",
              "Months_Inactive_12_mon        int64\n",
              "Contacts_Count_12_mon         int64\n",
              "Credit_Limit                float64\n",
              "Total_Revolving_Bal           int64\n",
              "Avg_Open_To_Buy             float64\n",
              "Total_Amt_Chng_Q4_Q1        float64\n",
              "Total_Trans_Amt               int64\n",
              "Total_Trans_Ct              float64\n",
              "Total_Ct_Chng_Q4_Q1         float64\n",
              "Avg_Utilization_Ratio       float64\n",
              "dtype: object"
            ]
          },
          "execution_count": 8,
          "metadata": {},
          "output_type": "execute_result"
        }
      ],
      "source": [
        "# Tipo de datos por variable\n",
        "bank_attrited.dtypes"
      ]
    },
    {
      "cell_type": "code",
      "execution_count": 9,
      "metadata": {
        "id": "ff04AbdJbbUQ"
      },
      "outputs": [
        {
          "data": {
            "text/plain": [
              "(10144, 21)"
            ]
          },
          "execution_count": 9,
          "metadata": {},
          "output_type": "execute_result"
        }
      ],
      "source": [
        "# Dimensiones\n",
        "bank_attrited.shape"
      ]
    },
    {
      "cell_type": "code",
      "execution_count": 10,
      "metadata": {
        "id": "k8CgRb4VbcoI"
      },
      "outputs": [
        {
          "data": {
            "text/plain": [
              "CLIENTNUM                      0\n",
              "Attrition_Flag                 0\n",
              "Customer_Age                   0\n",
              "Gender                        42\n",
              "Dependent_count                0\n",
              "Education_Level             1521\n",
              "Marital_Status               750\n",
              "Income                      1115\n",
              "Card_Category                  0\n",
              "Months_on_book                 0\n",
              "Total_Relationship_Count       0\n",
              "Months_Inactive_12_mon         0\n",
              "Contacts_Count_12_mon          0\n",
              "Credit_Limit                  17\n",
              "Total_Revolving_Bal            0\n",
              "Avg_Open_To_Buy                0\n",
              "Total_Amt_Chng_Q4_Q1           0\n",
              "Total_Trans_Amt                0\n",
              "Total_Trans_Ct               198\n",
              "Total_Ct_Chng_Q4_Q1            0\n",
              "Avg_Utilization_Ratio          0\n",
              "dtype: int64"
            ]
          },
          "execution_count": 10,
          "metadata": {},
          "output_type": "execute_result"
        }
      ],
      "source": [
        "# Conteo de datos nulos\n",
        "bank_attrited.isna().sum()\n",
        "# Para tratar los datos nulos, revisar algoritmo MICE (Multiple Imputation in Chained Equations)"
      ]
    },
    {
      "cell_type": "code",
      "execution_count": 11,
      "metadata": {
        "id": "joeslCT6bi3E"
      },
      "outputs": [
        {
          "name": "stdout",
          "output_type": "stream",
          "text": [
            "<class 'pandas.core.frame.DataFrame'>\n",
            "RangeIndex: 10144 entries, 0 to 10143\n",
            "Data columns (total 21 columns):\n",
            " #   Column                    Non-Null Count  Dtype  \n",
            "---  ------                    --------------  -----  \n",
            " 0   CLIENTNUM                 10144 non-null  int64  \n",
            " 1   Attrition_Flag            10144 non-null  object \n",
            " 2   Customer_Age              10144 non-null  int64  \n",
            " 3   Gender                    10102 non-null  object \n",
            " 4   Dependent_count           10144 non-null  int64  \n",
            " 5   Education_Level           8623 non-null   object \n",
            " 6   Marital_Status            9394 non-null   object \n",
            " 7   Income                    9029 non-null   float64\n",
            " 8   Card_Category             10144 non-null  object \n",
            " 9   Months_on_book            10144 non-null  int64  \n",
            " 10  Total_Relationship_Count  10144 non-null  int64  \n",
            " 11  Months_Inactive_12_mon    10144 non-null  int64  \n",
            " 12  Contacts_Count_12_mon     10144 non-null  int64  \n",
            " 13  Credit_Limit              10127 non-null  float64\n",
            " 14  Total_Revolving_Bal       10144 non-null  int64  \n",
            " 15  Avg_Open_To_Buy           10144 non-null  float64\n",
            " 16  Total_Amt_Chng_Q4_Q1      10144 non-null  float64\n",
            " 17  Total_Trans_Amt           10144 non-null  int64  \n",
            " 18  Total_Trans_Ct            9946 non-null   float64\n",
            " 19  Total_Ct_Chng_Q4_Q1       10144 non-null  float64\n",
            " 20  Avg_Utilization_Ratio     10144 non-null  float64\n",
            "dtypes: float64(7), int64(9), object(5)\n",
            "memory usage: 1.6+ MB\n"
          ]
        }
      ],
      "source": [
        "# Información general\n",
        "bank_attrited.info()"
      ]
    },
    {
      "cell_type": "code",
      "execution_count": 12,
      "metadata": {
        "id": "liWAU_JZfWm-"
      },
      "outputs": [],
      "source": [
        "# Eliminar variable identificadora\n",
        "datos = bank_attrited.copy()\n",
        "datos = datos.drop(columns='CLIENTNUM')\\\n",
        "             .dropna()"
      ]
    },
    {
      "cell_type": "code",
      "execution_count": 13,
      "metadata": {
        "id": "RcZiqy1FQcDD"
      },
      "outputs": [
        {
          "data": {
            "text/plain": [
              "(6922, 20)"
            ]
          },
          "execution_count": 13,
          "metadata": {},
          "output_type": "execute_result"
        }
      ],
      "source": [
        "datos.shape"
      ]
    },
    {
      "cell_type": "markdown",
      "metadata": {
        "id": "aOVTji75R5BT"
      },
      "source": [
        "# Selección de variables"
      ]
    },
    {
      "cell_type": "markdown",
      "metadata": {
        "id": "snNjuw76SOeb"
      },
      "source": [
        "## Análisis de correlación"
      ]
    },
    {
      "cell_type": "code",
      "execution_count": 14,
      "metadata": {
        "id": "ZrjMd21zR3ak"
      },
      "outputs": [
        {
          "data": {
            "image/png": "[encoded data removed]",
            "text/plain": [
              "<Figure size 800x500 with 2 Axes>"
            ]
          },
          "metadata": {},
          "output_type": "display_data"
        }
      ],
      "source": [
        "# Calcular la matriz de correlación\n",
        "corr_matrix = datos.corr(numeric_only=True)\n",
        "\n",
        "# Matriz de correlación reducida\n",
        "\n",
        "# Variables que tienen alta correlación\n",
        "high_corrs = [\n",
        "              (i, j)\n",
        "              for i in corr_matrix.columns\n",
        "              for j in corr_matrix.index\n",
        "              if (np.abs(corr_matrix.loc[i, j]) >= 0.7) & (i != j)\n",
        "             ]\n",
        "\n",
        "# Lista con las variables después del filtro\n",
        "lista_high_corrs = []\n",
        "for i in range(len(high_corrs)):\n",
        "  el_1 = high_corrs[i][0]\n",
        "  el_2 = high_corrs[i][1]\n",
        "  lista_high_corrs.extend([el_1, el_2])\n",
        "\n",
        "# Variables únicas de la lista de variables\n",
        "vars_high_corrs = list(set(lista_high_corrs))\n",
        "\n",
        "# Matríz de correlación reducida\n",
        "small_corr_matrix = datos[vars_high_corrs].corr()\n",
        "\n",
        "# Heatmap de correlación\n",
        "plt.figure(figsize=(8, 5))\n",
        "sns.heatmap(small_corr_matrix,\n",
        "            annot=True,\n",
        "            linewidths=0.5,\n",
        "            linecolor='black',\n",
        "            vmin=-1,\n",
        "            vmax=1,\n",
        "            fmt = '.3f',\n",
        "            cmap='coolwarm')\n",
        "plt.show()"
      ]
    },
    {
      "cell_type": "markdown",
      "metadata": {
        "id": "4c846rpaSRJL"
      },
      "source": [
        "Varias soluciones se pueden aplicar en los casos de correlaciones altas. Por ejemplo, probar con PCA en las variables que están muy correlacionadas, o análisis factorial. Se puede intentar transformar algunas de las variables con correlación, aplicando distintos tipos de funciones, como la logarítmica, curva power, curva S, entre otros, dependiendo de lo que tenga sentido analítico. Otra opción es sumar o promediar las variables, dependiendo de las características que tengan y del sentido analítico que se le de dentro del negocio."
      ]
    },
    {
      "cell_type": "code",
      "execution_count": 31,
      "metadata": {
        "id": "YHwNbZFsSvYY"
      },
      "outputs": [],
      "source": [
        "# Para el caso de ejemplo que estamos viendo, eliminaremos las variables correlacionadas\n",
        "# con base en la experiencia\n",
        "vars_no_corr = [\n",
        "    'Attrition_Flag', 'Customer_Age', 'Gender', 'Dependent_count',\n",
        "    'Education_Level', 'Marital_Status', 'Income', 'Card_Category',\n",
        "    'Total_Relationship_Count', 'Months_Inactive_12_mon',\n",
        "    'Contacts_Count_12_mon', 'Credit_Limit', 'Total_Revolving_Bal',\n",
        "    'Total_Amt_Chng_Q4_Q1', 'Total_Trans_Amt',\n",
        "    'Total_Ct_Chng_Q4_Q1', 'Avg_Utilization_Ratio'\n",
        "    ]\n",
        "\n",
        "datos_no_corr = datos.copy()\n",
        "datos_no_corr = datos_no_corr[vars_no_corr]"
      ]
    },
    {
      "cell_type": "markdown",
      "metadata": {
        "id": "K_K7_B72TgZn"
      },
      "source": [
        "# Pre-procesamiento"
      ]
    },
    {
      "cell_type": "markdown",
      "metadata": {
        "id": "nkmR-JsQTocq"
      },
      "source": [
        "## Estandarización de variables numéricas"
      ]
    },
    {
      "cell_type": "code",
      "execution_count": 32,
      "metadata": {
        "id": "SrlLJb0_Q8XI"
      },
      "outputs": [
        {
          "data": {
            "text/plain": [
              "Total_Relationship_Count\n",
              "3    1585\n",
              "5    1341\n",
              "4    1316\n",
              "6    1253\n",
              "2     817\n",
              "1     610\n",
              "Name: count, dtype: int64"
            ]
          },
          "execution_count": 32,
          "metadata": {},
          "output_type": "execute_result"
        }
      ],
      "source": [
        "datos_no_corr['Total_Relationship_Count'].value_counts()"
      ]
    },
    {
      "cell_type": "code",
      "execution_count": 33,
      "metadata": {
        "id": "WOLYiOnBRCJD"
      },
      "outputs": [
        {
          "data": {
            "text/plain": [
              "Months_Inactive_12_mon\n",
              "3    2657\n",
              "2    2279\n",
              "1    1485\n",
              "4     281\n",
              "5     127\n",
              "6      75\n",
              "0      18\n",
              "Name: count, dtype: int64"
            ]
          },
          "execution_count": 33,
          "metadata": {},
          "output_type": "execute_result"
        }
      ],
      "source": [
        "datos_no_corr['Months_Inactive_12_mon'].value_counts()"
      ]
    },
    {
      "cell_type": "code",
      "execution_count": 34,
      "metadata": {
        "id": "uVQ6mw-pRGIv"
      },
      "outputs": [
        {
          "data": {
            "text/plain": [
              "Contacts_Count_12_mon\n",
              "3    2304\n",
              "2    2216\n",
              "1     994\n",
              "4     967\n",
              "0     285\n",
              "5     127\n",
              "6      29\n",
              "Name: count, dtype: int64"
            ]
          },
          "execution_count": 34,
          "metadata": {},
          "output_type": "execute_result"
        }
      ],
      "source": [
        "datos_no_corr['Contacts_Count_12_mon'].value_counts()"
      ]
    },
    {
      "cell_type": "code",
      "execution_count": 35,
      "metadata": {
        "id": "9zASTZtNQeWX"
      },
      "outputs": [
        {
          "data": {
            "text/plain": [
              "(6922, 8)"
            ]
          },
          "execution_count": 35,
          "metadata": {},
          "output_type": "execute_result"
        }
      ],
      "source": [
        "num_vars = [\n",
        "    'Customer_Age', 'Income', 'Credit_Limit', 'Total_Revolving_Bal',\n",
        "    'Total_Amt_Chng_Q4_Q1', 'Total_Trans_Amt', 'Total_Ct_Chng_Q4_Q1',\n",
        "    'Avg_Utilization_Ratio'\n",
        "    ]\n",
        "datos_num = datos_no_corr[num_vars]\n",
        "datos_num.shape"
      ]
    },
    {
      "cell_type": "code",
      "execution_count": 36,
      "metadata": {
        "id": "Qb8o6Fh0zAo4"
      },
      "outputs": [
        {
          "data": {
            "text/plain": [
              "pandas.core.frame.DataFrame"
            ]
          },
          "execution_count": 36,
          "metadata": {},
          "output_type": "execute_result"
        }
      ],
      "source": [
        "type(datos_num)"
      ]
    },
    {
      "cell_type": "code",
      "execution_count": 37,
      "metadata": {
        "id": "DWRfPAkEzDYP"
      },
      "outputs": [
        {
          "data": {
            "text/html": [
              "<div>\n",
              "<style scoped>\n",
              "    .dataframe tbody tr th:only-of-type {\n",
              "        vertical-align: middle;\n",
              "    }\n",
              "\n",
              "    .dataframe tbody tr th {\n",
              "        vertical-align: top;\n",
              "    }\n",
              "\n",
              "    .dataframe thead th {\n",
              "        text-align: right;\n",
              "    }\n",
              "</style>\n",
              "<table border=\"1\" class=\"dataframe\">\n",
              "  <thead>\n",
              "    <tr style=\"text-align: right;\">\n",
              "      <th></th>\n",
              "      <th>Customer_Age</th>\n",
              "      <th>Income</th>\n",
              "      <th>Credit_Limit</th>\n",
              "      <th>Total_Revolving_Bal</th>\n",
              "      <th>Total_Amt_Chng_Q4_Q1</th>\n",
              "      <th>Total_Trans_Amt</th>\n",
              "      <th>Total_Ct_Chng_Q4_Q1</th>\n",
              "      <th>Avg_Utilization_Ratio</th>\n",
              "    </tr>\n",
              "  </thead>\n",
              "  <tbody>\n",
              "    <tr>\n",
              "      <th>0</th>\n",
              "      <td>45</td>\n",
              "      <td>70376.50</td>\n",
              "      <td>12691.0</td>\n",
              "      <td>777</td>\n",
              "      <td>1.335</td>\n",
              "      <td>1144</td>\n",
              "      <td>1.625</td>\n",
              "      <td>0.061</td>\n",
              "    </tr>\n",
              "    <tr>\n",
              "      <th>1</th>\n",
              "      <td>49</td>\n",
              "      <td>20006.60</td>\n",
              "      <td>8256.0</td>\n",
              "      <td>864</td>\n",
              "      <td>1.541</td>\n",
              "      <td>1291</td>\n",
              "      <td>3.714</td>\n",
              "      <td>0.105</td>\n",
              "    </tr>\n",
              "    <tr>\n",
              "      <th>4</th>\n",
              "      <td>40</td>\n",
              "      <td>66669.58</td>\n",
              "      <td>4716.0</td>\n",
              "      <td>0</td>\n",
              "      <td>2.175</td>\n",
              "      <td>816</td>\n",
              "      <td>2.500</td>\n",
              "      <td>0.000</td>\n",
              "    </tr>\n",
              "    <tr>\n",
              "      <th>8</th>\n",
              "      <td>37</td>\n",
              "      <td>71731.97</td>\n",
              "      <td>22352.0</td>\n",
              "      <td>2517</td>\n",
              "      <td>3.355</td>\n",
              "      <td>1350</td>\n",
              "      <td>1.182</td>\n",
              "      <td>0.113</td>\n",
              "    </tr>\n",
              "    <tr>\n",
              "      <th>9</th>\n",
              "      <td>48</td>\n",
              "      <td>109736.94</td>\n",
              "      <td>11656.0</td>\n",
              "      <td>1677</td>\n",
              "      <td>1.524</td>\n",
              "      <td>1441</td>\n",
              "      <td>0.882</td>\n",
              "      <td>0.144</td>\n",
              "    </tr>\n",
              "    <tr>\n",
              "      <th>...</th>\n",
              "      <td>...</td>\n",
              "      <td>...</td>\n",
              "      <td>...</td>\n",
              "      <td>...</td>\n",
              "      <td>...</td>\n",
              "      <td>...</td>\n",
              "      <td>...</td>\n",
              "      <td>...</td>\n",
              "    </tr>\n",
              "    <tr>\n",
              "      <th>10137</th>\n",
              "      <td>54</td>\n",
              "      <td>73590.39</td>\n",
              "      <td>13940.0</td>\n",
              "      <td>2109</td>\n",
              "      <td>0.660</td>\n",
              "      <td>15577</td>\n",
              "      <td>0.754</td>\n",
              "      <td>0.151</td>\n",
              "    </tr>\n",
              "    <tr>\n",
              "      <th>10138</th>\n",
              "      <td>56</td>\n",
              "      <td>34689.80</td>\n",
              "      <td>3688.0</td>\n",
              "      <td>606</td>\n",
              "      <td>0.570</td>\n",
              "      <td>14596</td>\n",
              "      <td>0.791</td>\n",
              "      <td>0.164</td>\n",
              "    </tr>\n",
              "    <tr>\n",
              "      <th>10139</th>\n",
              "      <td>50</td>\n",
              "      <td>45227.76</td>\n",
              "      <td>4003.0</td>\n",
              "      <td>1851</td>\n",
              "      <td>0.703</td>\n",
              "      <td>15476</td>\n",
              "      <td>0.857</td>\n",
              "      <td>0.462</td>\n",
              "    </tr>\n",
              "    <tr>\n",
              "      <th>10141</th>\n",
              "      <td>44</td>\n",
              "      <td>416.97</td>\n",
              "      <td>5409.0</td>\n",
              "      <td>0</td>\n",
              "      <td>0.819</td>\n",
              "      <td>10291</td>\n",
              "      <td>0.818</td>\n",
              "      <td>0.000</td>\n",
              "    </tr>\n",
              "    <tr>\n",
              "      <th>10143</th>\n",
              "      <td>43</td>\n",
              "      <td>5834.73</td>\n",
              "      <td>10388.0</td>\n",
              "      <td>1961</td>\n",
              "      <td>0.703</td>\n",
              "      <td>10294</td>\n",
              "      <td>0.649</td>\n",
              "      <td>0.189</td>\n",
              "    </tr>\n",
              "  </tbody>\n",
              "</table>\n",
              "<p>6922 rows × 8 columns</p>\n",
              "</div>"
            ],
            "text/plain": [
              "       Customer_Age     Income  Credit_Limit  Total_Revolving_Bal  \\\n",
              "0                45   70376.50       12691.0                  777   \n",
              "1                49   20006.60        8256.0                  864   \n",
              "4                40   66669.58        4716.0                    0   \n",
              "8                37   71731.97       22352.0                 2517   \n",
              "9                48  109736.94       11656.0                 1677   \n",
              "...             ...        ...           ...                  ...   \n",
              "10137            54   73590.39       13940.0                 2109   \n",
              "10138            56   34689.80        3688.0                  606   \n",
              "10139            50   45227.76        4003.0                 1851   \n",
              "10141            44     416.97        5409.0                    0   \n",
              "10143            43    5834.73       10388.0                 1961   \n",
              "\n",
              "       Total_Amt_Chng_Q4_Q1  Total_Trans_Amt  Total_Ct_Chng_Q4_Q1  \\\n",
              "0                     1.335             1144                1.625   \n",
              "1                     1.541             1291                3.714   \n",
              "4                     2.175              816                2.500   \n",
              "8                     3.355             1350                1.182   \n",
              "9                     1.524             1441                0.882   \n",
              "...                     ...              ...                  ...   \n",
              "10137                 0.660            15577                0.754   \n",
              "10138                 0.570            14596                0.791   \n",
              "10139                 0.703            15476                0.857   \n",
              "10141                 0.819            10291                0.818   \n",
              "10143                 0.703            10294                0.649   \n",
              "\n",
              "       Avg_Utilization_Ratio  \n",
              "0                      0.061  \n",
              "1                      0.105  \n",
              "4                      0.000  \n",
              "8                      0.113  \n",
              "9                      0.144  \n",
              "...                      ...  \n",
              "10137                  0.151  \n",
              "10138                  0.164  \n",
              "10139                  0.462  \n",
              "10141                  0.000  \n",
              "10143                  0.189  \n",
              "\n",
              "[6922 rows x 8 columns]"
            ]
          },
          "execution_count": 37,
          "metadata": {},
          "output_type": "execute_result"
        }
      ],
      "source": [
        "datos_num"
      ]
    },
    {
      "cell_type": "code",
      "execution_count": 38,
      "metadata": {
        "id": "GIb_5V4rPke-"
      },
      "outputs": [
        {
          "data": {
            "text/plain": [
              "(6922, 8)"
            ]
          },
          "execution_count": 38,
          "metadata": {},
          "output_type": "execute_result"
        }
      ],
      "source": [
        "# Crear instancia StandardScaler\n",
        "scaler = StandardScaler()\n",
        "\n",
        "# Estandarizar las variables\n",
        "X_scaled = scaler.fit_transform(datos_num)\n",
        "\n",
        "# Dimensiones de los datos estandarizados\n",
        "X_scaled.shape"
      ]
    },
    {
      "cell_type": "code",
      "execution_count": 39,
      "metadata": {
        "id": "iDPbVmKsy9CH"
      },
      "outputs": [
        {
          "data": {
            "text/plain": [
              "numpy.ndarray"
            ]
          },
          "execution_count": 39,
          "metadata": {},
          "output_type": "execute_result"
        }
      ],
      "source": [
        "type(X_scaled)"
      ]
    },
    {
      "cell_type": "code",
      "execution_count": 40,
      "metadata": {
        "id": "Tzx0_cBPzFWB"
      },
      "outputs": [
        {
          "data": {
            "text/plain": [
              "array([[-0.16623962, -0.13963231,  0.4576256 , ..., -0.93465794,\n",
              "         3.84598127, -0.79448902],\n",
              "       [ 0.33114989, -0.4441358 , -0.02738945, ..., -0.89203487,\n",
              "        12.63549705, -0.63658839],\n",
              "       [-0.7879765 , -0.16204193, -0.4145266 , ..., -1.02976247,\n",
              "         7.52756399, -1.01339672],\n",
              "       ...,\n",
              "       [ 0.45549727, -0.29166515, -0.49250084, ...,  3.22094611,\n",
              "         0.61460351,  0.64455994],\n",
              "       [-0.29058699, -0.56256189, -0.33873959, ...,  1.71754065,\n",
              "         0.45051011, -1.01339672],\n",
              "       [-0.41493437, -0.52980965,  0.20576773, ...,  1.71841051,\n",
              "        -0.26056129, -0.33514172]])"
            ]
          },
          "execution_count": 40,
          "metadata": {},
          "output_type": "execute_result"
        }
      ],
      "source": [
        "X_scaled"
      ]
    },
    {
      "cell_type": "markdown",
      "metadata": {
        "id": "vvs5pj5MUZt6"
      },
      "source": [
        "## Codificación de variables categóricas"
      ]
    },
    {
      "cell_type": "code",
      "execution_count": 41,
      "metadata": {
        "id": "1Sx7V4eAz_NQ"
      },
      "outputs": [
        {
          "data": {
            "text/plain": [
              "(6922, 8)"
            ]
          },
          "execution_count": 41,
          "metadata": {},
          "output_type": "execute_result"
        }
      ],
      "source": [
        "categ_vars = [\n",
        "    'Gender', 'Dependent_count', 'Education_Level',\n",
        "    'Marital_Status', 'Card_Category', 'Total_Relationship_Count',\n",
        "    'Months_Inactive_12_mon', 'Contacts_Count_12_mon'\n",
        "    ]\n",
        "datos_categ = datos_no_corr[categ_vars]\n",
        "datos_categ.shape"
      ]
    },
    {
      "cell_type": "code",
      "execution_count": 42,
      "metadata": {
        "id": "XRLXk1atVCm4"
      },
      "outputs": [
        {
          "data": {
            "text/plain": [
              "(6922, 33)"
            ]
          },
          "execution_count": 42,
          "metadata": {},
          "output_type": "execute_result"
        }
      ],
      "source": [
        "# Codificación\n",
        "encoder = OneHotEncoder(sparse_output=False, drop='first')\n",
        "X_encoded = encoder.fit_transform(datos_categ)\n",
        "\n",
        "# Cantidad de características generadas\n",
        "X_encoded.shape"
      ]
    },
    {
      "cell_type": "code",
      "execution_count": 43,
      "metadata": {
        "id": "B7BXmQYVzybQ"
      },
      "outputs": [
        {
          "data": {
            "text/plain": [
              "Gender\n",
              "M    3630\n",
              "F    3292\n",
              "Name: count, dtype: int64"
            ]
          },
          "execution_count": 43,
          "metadata": {},
          "output_type": "execute_result"
        }
      ],
      "source": [
        "datos_no_corr['Gender'].value_counts()"
      ]
    },
    {
      "cell_type": "code",
      "execution_count": 44,
      "metadata": {
        "id": "PLiOcajDz9U4"
      },
      "outputs": [
        {
          "data": {
            "text/plain": [
              "Card_Category\n",
              "Blue        6449\n",
              "Silver       385\n",
              "Gold          77\n",
              "Platinum      11\n",
              "Name: count, dtype: int64"
            ]
          },
          "execution_count": 44,
          "metadata": {},
          "output_type": "execute_result"
        }
      ],
      "source": [
        "datos_no_corr['Card_Category'].value_counts()"
      ]
    },
    {
      "cell_type": "code",
      "execution_count": 45,
      "metadata": {
        "id": "upR_FGlYV9C5"
      },
      "outputs": [
        {
          "data": {
            "text/plain": [
              "array(['Gender_M', 'Dependent_count_1', 'Dependent_count_2',\n",
              "       'Dependent_count_3', 'Dependent_count_4', 'Dependent_count_5',\n",
              "       'Education_Level_Doctorate', 'Education_Level_Graduate',\n",
              "       'Education_Level_High School', 'Education_Level_Post-Graduate',\n",
              "       'Education_Level_Uneducated', 'Marital_Status_Married',\n",
              "       'Marital_Status_Single', 'Card_Category_Gold',\n",
              "       'Card_Category_Platinum', 'Card_Category_Silver',\n",
              "       'Total_Relationship_Count_2', 'Total_Relationship_Count_3',\n",
              "       'Total_Relationship_Count_4', 'Total_Relationship_Count_5',\n",
              "       'Total_Relationship_Count_6', 'Months_Inactive_12_mon_1',\n",
              "       'Months_Inactive_12_mon_2', 'Months_Inactive_12_mon_3',\n",
              "       'Months_Inactive_12_mon_4', 'Months_Inactive_12_mon_5',\n",
              "       'Months_Inactive_12_mon_6', 'Contacts_Count_12_mon_1',\n",
              "       'Contacts_Count_12_mon_2', 'Contacts_Count_12_mon_3',\n",
              "       'Contacts_Count_12_mon_4', 'Contacts_Count_12_mon_5',\n",
              "       'Contacts_Count_12_mon_6'], dtype=object)"
            ]
          },
          "execution_count": 45,
          "metadata": {},
          "output_type": "execute_result"
        }
      ],
      "source": [
        "# Características categóricas codificadas\n",
        "encoder.get_feature_names_out()"
      ]
    },
    {
      "cell_type": "markdown",
      "metadata": {
        "id": "_kXM1plkVRcW"
      },
      "source": [
        "## Partición de los datos"
      ]
    },
    {
      "cell_type": "code",
      "execution_count": 46,
      "metadata": {
        "id": "egUSKjHUVVrn"
      },
      "outputs": [
        {
          "data": {
            "text/plain": [
              "(6922, 41)"
            ]
          },
          "execution_count": 46,
          "metadata": {},
          "output_type": "execute_result"
        }
      ],
      "source": [
        "# Características a modelar\n",
        "X = np.concatenate((X_scaled, X_encoded), axis=1)\n",
        "X.shape"
      ]
    },
    {
      "cell_type": "code",
      "execution_count": 47,
      "metadata": {
        "id": "q4kdo8kVVmWd"
      },
      "outputs": [],
      "source": [
        "# Conservar nombres de las características\n",
        "feature_names = num_vars\\\n",
        "                + encoder.get_feature_names_out()\\\n",
        "                         .tolist()"
      ]
    },
    {
      "cell_type": "code",
      "execution_count": 48,
      "metadata": {
        "id": "g5AfoSqjWNDe"
      },
      "outputs": [
        {
          "data": {
            "text/plain": [
              "41"
            ]
          },
          "execution_count": 48,
          "metadata": {},
          "output_type": "execute_result"
        }
      ],
      "source": [
        "# Verificar cantidad de nombres con cantidad de características\n",
        "len(feature_names)"
      ]
    },
    {
      "cell_type": "code",
      "execution_count": 49,
      "metadata": {
        "id": "qPpRNz0V8NiU"
      },
      "outputs": [
        {
          "data": {
            "text/plain": [
              "array([[1.],\n",
              "       [1.],\n",
              "       [1.],\n",
              "       ...,\n",
              "       [1.],\n",
              "       [0.],\n",
              "       [0.]])"
            ]
          },
          "execution_count": 49,
          "metadata": {},
          "output_type": "execute_result"
        }
      ],
      "source": [
        "encoder_y = OneHotEncoder(sparse_output=False, drop='if_binary')\n",
        "y = encoder_y.fit_transform(datos['Attrition_Flag'].values.reshape(-1, 1))\n",
        "\n",
        "y"
      ]
    },
    {
      "cell_type": "code",
      "execution_count": 50,
      "metadata": {
        "id": "CuByb3779dj9"
      },
      "outputs": [],
      "source": [
        "datos['Attrition_Flag'] = datos['Attrition_Flag'].str.replace('Existing Customer', '1')\n",
        "datos['Attrition_Flag'] = datos['Attrition_Flag'].str.replace('Attrited Customer', '0')\n",
        "datos['Attrition_Flag'] = datos['Attrition_Flag'].astype(int)\n",
        "\n",
        "y = datos['Attrition_Flag']"
      ]
    },
    {
      "cell_type": "code",
      "execution_count": 51,
      "metadata": {
        "id": "H9c6kUUwWnzs"
      },
      "outputs": [],
      "source": [
        "# Partición de los datos\n",
        "X_train, X_test, y_train, y_test = train_test_split(X, y,\n",
        "                                                    train_size=0.7,\n",
        "                                                    random_state=42)"
      ]
    },
    {
      "cell_type": "markdown",
      "metadata": {
        "id": "mI3h706lWsny"
      },
      "source": [
        "# Balanceo de clases"
      ]
    },
    {
      "cell_type": "code",
      "execution_count": 52,
      "metadata": {
        "id": "B7uvlItRWuBp"
      },
      "outputs": [
        {
          "data": {
            "image/png": "[encoded data removed]",
            "text/plain": [
              "<Figure size 1000x500 with 1 Axes>"
            ]
          },
          "metadata": {},
          "output_type": "display_data"
        }
      ],
      "source": [
        "# Clases desbalanceadas\n",
        "plt.figure(figsize=(10, 5))\n",
        "sns.countplot(x='Attrition_Flag', data=datos)\n",
        "plt.xlabel('Attrition Flag')\n",
        "plt.ylabel('Conteo')\n",
        "plt.show()"
      ]
    },
    {
      "cell_type": "code",
      "execution_count": 53,
      "metadata": {
        "id": "i-7kSe0PW0jN"
      },
      "outputs": [
        {
          "data": {
            "image/png": "[encoded data removed]",
            "text/plain": [
              "<Figure size 1000x500 with 1 Axes>"
            ]
          },
          "metadata": {},
          "output_type": "display_data"
        }
      ],
      "source": [
        "# Balanceo con sobremuestreo SMOTE\n",
        "\n",
        "smote = SMOTE(k_neighbors=5, random_state=42)\n",
        "X_train_balance, y_train_balance = smote.fit_resample(X_train, y_train)\n",
        "\n",
        "class_counts = pd.Series(y_train_balance).value_counts()\n",
        "plt.figure(figsize=(10, 5))\n",
        "plt.bar(class_counts.index, class_counts, color=sns.color_palette('colorblind'))\n",
        "plt.xticks(range(2))\n",
        "plt.title('Distribución de las clases', size=22)\n",
        "plt.show()"
      ]
    },
    {
      "cell_type": "markdown",
      "metadata": {
        "id": "Ws0739GdXFd_"
      },
      "source": [
        "# Modelación"
      ]
    },
    {
      "cell_type": "markdown",
      "metadata": {
        "id": "5hwwAnatZGai"
      },
      "source": [
        "## Modelos lineales"
      ]
    },
    {
      "cell_type": "markdown",
      "metadata": {
        "id": "dYIqaRqsZJa8"
      },
      "source": [
        "### Naïve Bayes"
      ]
    },
    {
      "cell_type": "code",
      "execution_count": 54,
      "metadata": {
        "id": "tnHWoMYKZIEZ"
      },
      "outputs": [
        {
          "name": "stdout",
          "output_type": "stream",
          "text": [
            "              precision    recall  f1-score   support\n",
            "\n",
            "           0       0.89      0.10      0.19      4078\n",
            "           1       0.52      0.99      0.68      4078\n",
            "\n",
            "    accuracy                           0.55      8156\n",
            "   macro avg       0.71      0.55      0.44      8156\n",
            "weighted avg       0.71      0.55      0.44      8156\n",
            "\n"
          ]
        }
      ],
      "source": [
        "# Crear la instancia\n",
        "nb_classifier = GaussianNB()\n",
        "# Entrenar el modelo\n",
        "nb_classifier.fit(X_train_balance, y_train_balance)\n",
        "\n",
        "# Predicción del modelo sobre los datos de entrenamiento\n",
        "y_train_pred_nb = nb_classifier.predict(X_train_balance)\n",
        "\n",
        "# Reporte de métricas de evaluación para clasificación\n",
        "print(classification_report(y_train_balance, y_train_pred_nb))"
      ]
    },
    {
      "cell_type": "markdown",
      "metadata": {
        "id": "bLopCeyrXH1R"
      },
      "source": [
        "## Grid-Search K-Flod Cross Validation"
      ]
    },
    {
      "cell_type": "code",
      "execution_count": 55,
      "metadata": {
        "id": "YSDLVFmqXKtN"
      },
      "outputs": [
        {
          "name": "stdout",
          "output_type": "stream",
          "text": [
            "Fitting 5 folds for each of 6 candidates, totalling 30 fits\n",
            "Best Params: {'n_neighbors': 5}\n",
            "Best Training Score: 0.88425752275159\n"
          ]
        }
      ],
      "source": [
        "# KNN\n",
        "grid_knn = {\n",
        "    'n_neighbors':range(5, 11)\n",
        "    }\n",
        "\n",
        "gs_cv_knn = GridSearchCV(KNeighborsClassifier(),\n",
        "                        param_grid=grid_knn,\n",
        "                        verbose=1)\n",
        "\n",
        "gs_cv_knn.fit(X_train_balance, y_train_balance)\n",
        "\n",
        "print(f'Best Params: {gs_cv_knn.best_params_}')\n",
        "print(f'Best Training Score: {gs_cv_knn.best_score_}')\n"
      ]
    },
    {
      "cell_type": "code",
      "execution_count": 56,
      "metadata": {
        "id": "4UDzHzXQX90Z"
      },
      "outputs": [
        {
          "name": "stdout",
          "output_type": "stream",
          "text": [
            "Fitting 5 folds for each of 18 candidates, totalling 90 fits\n",
            "Best Params: {'criterion': 'gini', 'max_depth': 12}\n",
            "Best Scoring: 0.9290155654536493\n"
          ]
        }
      ],
      "source": [
        "# Árbol de Decisión\n",
        "grid_dt = {\n",
        "    'max_depth':range(4, 21, 2),\n",
        "    'criterion':['gini', 'entropy']\n",
        "}\n",
        "\n",
        "gs_cv_dt = GridSearchCV(DecisionTreeClassifier(),\n",
        "                        param_grid=grid_dt,\n",
        "                        verbose=1)\n",
        "\n",
        "gs_cv_dt.fit(X_train_balance, y_train_balance)\n",
        "\n",
        "print(f'Best Params: {gs_cv_dt.best_params_}')\n",
        "print(f'Best Scoring: {gs_cv_dt.best_score_}')"
      ]
    },
    {
      "cell_type": "markdown",
      "metadata": {
        "id": "rxtMJokVZyDl"
      },
      "source": [
        "# Evaluación"
      ]
    },
    {
      "cell_type": "markdown",
      "metadata": {
        "id": "hbLaPiU9ZzSO"
      },
      "source": [
        "## Predicciones sobre datos de prueba"
      ]
    },
    {
      "cell_type": "code",
      "execution_count": 57,
      "metadata": {
        "id": "ap8RfL2hZ7YQ"
      },
      "outputs": [],
      "source": [
        "# Predicciónes sobre las características de prueba\n",
        "\n",
        "y_pred_nb = nb_classifier.predict(X_test)\n",
        "y_pred_knn = gs_cv_knn.predict(X_test)\n",
        "y_pred_dt = gs_cv_dt.predict(X_test)"
      ]
    },
    {
      "cell_type": "markdown",
      "metadata": {
        "id": "50_a3SkKaFmV"
      },
      "source": [
        "## Reporte de clasificación"
      ]
    },
    {
      "cell_type": "code",
      "execution_count": 58,
      "metadata": {
        "id": "usmxFhikaOHu"
      },
      "outputs": [
        {
          "name": "stdout",
          "output_type": "stream",
          "text": [
            "------------------------------------------------------------\n",
            "\n",
            "Naïve Bayes\n",
            "              precision    recall  f1-score   support\n",
            "\n",
            "           0       0.54      0.09      0.15       322\n",
            "           1       0.85      0.99      0.92      1755\n",
            "\n",
            "    accuracy                           0.85      2077\n",
            "   macro avg       0.70      0.54      0.53      2077\n",
            "weighted avg       0.81      0.85      0.80      2077\n",
            "\n",
            "------------------------------------------------------------\n",
            "\n",
            "KNN\n",
            "              precision    recall  f1-score   support\n",
            "\n",
            "           0       0.44      0.76      0.55       322\n",
            "           1       0.95      0.82      0.88      1755\n",
            "\n",
            "    accuracy                           0.81      2077\n",
            "   macro avg       0.69      0.79      0.72      2077\n",
            "weighted avg       0.87      0.81      0.83      2077\n",
            "\n",
            "------------------------------------------------------------\n",
            "\n",
            "Decicision Tree\n",
            "              precision    recall  f1-score   support\n",
            "\n",
            "           0       0.68      0.79      0.73       322\n",
            "           1       0.96      0.93      0.95      1755\n",
            "\n",
            "    accuracy                           0.91      2077\n",
            "   macro avg       0.82      0.86      0.84      2077\n",
            "weighted avg       0.92      0.91      0.91      2077\n",
            "\n",
            "------------------------------------------------------------\n"
          ]
        }
      ],
      "source": [
        "# Métricas de desempeño\n",
        "print(f'{\"-\"*60}\\n')\n",
        "print('Naïve Bayes')\n",
        "print(classification_report(y_test, y_pred_nb))\n",
        "print(f'{\"-\"*60}\\n')\n",
        "print('KNN')\n",
        "print(classification_report(y_test, y_pred_knn))\n",
        "print(f'{\"-\"*60}\\n')\n",
        "print('Decicision Tree')\n",
        "print(classification_report(y_test, y_pred_dt))\n",
        "print(f'{\"-\"*60}')"
      ]
    },
    {
      "cell_type": "code",
      "execution_count": 59,
      "metadata": {
        "id": "CzgQyF0HaZN1"
      },
      "outputs": [
        {
          "name": "stdout",
          "output_type": "stream",
          "text": [
            "Balanced Accuracy Score for Naïve Bayes Classifier: 0.5366\n",
            "Balanced Accuracy Score for KNN Classifier: 0.7898\n",
            "Balanced Accuracy Score for Decision Tree Classifier: 0.8587\n"
          ]
        }
      ],
      "source": [
        "# Accuracy balanceado\n",
        "\n",
        "balanced_acc_dt = balanced_accuracy_score(y_test, y_pred_nb)\n",
        "balanced_acc_rf = balanced_accuracy_score(y_test, y_pred_knn)\n",
        "balanced_acc_xgb = balanced_accuracy_score(y_test, y_pred_dt)\n",
        "\n",
        "print(f'Balanced Accuracy Score for Naïve Bayes Classifier: {balanced_acc_dt:.4f}')\n",
        "print(f'Balanced Accuracy Score for KNN Classifier: {balanced_acc_rf:.4f}')\n",
        "print(f'Balanced Accuracy Score for Decision Tree Classifier: {balanced_acc_xgb:.4f}')"
      ]
    },
    {
      "cell_type": "markdown",
      "metadata": {
        "id": "EkyKmiU0585N"
      },
      "source": [
        "# Ensambles"
      ]
    },
    {
      "cell_type": "code",
      "execution_count": 60,
      "metadata": {
        "id": "TFp5fkg87Uur"
      },
      "outputs": [
        {
          "name": "stdout",
          "output_type": "stream",
          "text": [
            "Fitting 5 folds for each of 24 candidates, totalling 120 fits\n"
          ]
        },
        {
          "data": {
            "text/plain": [
              "{'criterion': 'gini', 'max_depth': 20, 'n_estimators': 40}"
            ]
          },
          "execution_count": 60,
          "metadata": {},
          "output_type": "execute_result"
        }
      ],
      "source": [
        "# Bosque Aleatorio\n",
        "grid_rf = {\n",
        "    'criterion':['gini', 'entropy'],\n",
        "    'max_depth':range(5, 21, 5),\n",
        "    'n_estimators':range(40, 61, 10),\n",
        "    }\n",
        "\n",
        "gs_cv_rf = GridSearchCV(RandomForestClassifier(),\n",
        "                        param_grid=grid_rf,\n",
        "                        verbose=1,\n",
        "                        return_train_score=True)\n",
        "\n",
        "gs_cv_rf.fit(X_train_balance, y_train_balance)\n",
        "\n",
        "gs_cv_rf.best_params_"
      ]
    },
    {
      "cell_type": "code",
      "execution_count": 61,
      "metadata": {
        "id": "KHJAnX017Xv5"
      },
      "outputs": [
        {
          "name": "stdout",
          "output_type": "stream",
          "text": [
            "Fitting 5 folds for each of 27 candidates, totalling 135 fits\n"
          ]
        },
        {
          "data": {
            "text/plain": [
              "{'learning_rate': 0.049999999999999996, 'max_depth': 6, 'n_estimators': 60}"
            ]
          },
          "execution_count": 61,
          "metadata": {},
          "output_type": "execute_result"
        }
      ],
      "source": [
        "# XGBoost\n",
        "grid_xgb = {\n",
        "    'learning_rate': np.arange(0.01, 0.06, 0.02),\n",
        "    'n_estimators': range(40, 61, 10),\n",
        "    'max_depth': range(5, 8)\n",
        "}\n",
        "\n",
        "\n",
        "gs_cv_xgb = GridSearchCV(XGBClassifier(),\n",
        "                         param_grid=grid_xgb,\n",
        "                         verbose=1,\n",
        "                         return_train_score=True)\n",
        "\n",
        "gs_cv_xgb.fit(X_train, y_train)\n",
        "\n",
        "gs_cv_xgb.best_params_\n"
      ]
    },
    {
      "cell_type": "code",
      "execution_count": 62,
      "metadata": {
        "id": "zUpu1Ii6-eSZ"
      },
      "outputs": [],
      "source": [
        "# Predicciónes sobre las características de prueba\n",
        "\n",
        "y_pred_rf = gs_cv_rf.predict(X_test)\n",
        "y_pred_xgb = gs_cv_xgb.predict(X_test)"
      ]
    },
    {
      "cell_type": "code",
      "execution_count": 63,
      "metadata": {
        "id": "HiH17lhd-tu0"
      },
      "outputs": [
        {
          "name": "stdout",
          "output_type": "stream",
          "text": [
            "------------------------------------------------------------\n",
            "\n",
            "Random Forest\n",
            "              precision    recall  f1-score   support\n",
            "\n",
            "           0       0.81      0.71      0.76       322\n",
            "           1       0.95      0.97      0.96      1755\n",
            "\n",
            "    accuracy                           0.93      2077\n",
            "   macro avg       0.88      0.84      0.86      2077\n",
            "weighted avg       0.93      0.93      0.93      2077\n",
            "\n",
            "------------------------------------------------------------\n",
            "\n",
            "XGBoost\n",
            "              precision    recall  f1-score   support\n",
            "\n",
            "           0       0.90      0.74      0.81       322\n",
            "           1       0.95      0.99      0.97      1755\n",
            "\n",
            "    accuracy                           0.95      2077\n",
            "   macro avg       0.93      0.86      0.89      2077\n",
            "weighted avg       0.95      0.95      0.95      2077\n",
            "\n"
          ]
        }
      ],
      "source": [
        "# Métricas de desempeño\n",
        "print(f'{\"-\"*60}\\n')\n",
        "print('Random Forest')\n",
        "print(classification_report(y_test, y_pred_rf))\n",
        "print(f'{\"-\"*60}\\n')\n",
        "print('XGBoost')\n",
        "print(classification_report(y_test, y_pred_xgb))\n"
      ]
    },
    {
      "cell_type": "code",
      "execution_count": 64,
      "metadata": {
        "id": "DAS4xGx4_Dw1"
      },
      "outputs": [
        {
          "name": "stdout",
          "output_type": "stream",
          "text": [
            "Balanced Accuracy Score for Random Forest Classifier: 0.8415\n",
            "Balanced Accuracy Score for XGBoost Classifier: 0.8637\n"
          ]
        }
      ],
      "source": [
        "# Accuracy balanceado\n",
        "\n",
        "balanced_acc_dt = balanced_accuracy_score(y_test, y_pred_rf)\n",
        "balanced_acc_rf = balanced_accuracy_score(y_test, y_pred_xgb)\n",
        "\n",
        "print(f'Balanced Accuracy Score for Random Forest Classifier: {balanced_acc_dt:.4f}')\n",
        "print(f'Balanced Accuracy Score for XGBoost Classifier: {balanced_acc_rf:.4f}')\n"
      ]
    }
  ],
  "metadata": {
    "colab": {
      "provenance": [],
      "toc_visible": true
    },
    "kernelspec": {
      "display_name": "Python 3",
      "name": "python3"
    },
    "language_info": {
      "codemirror_mode": {
        "name": "ipython",
        "version": 3
      },
      "file_extension": ".py",
      "mimetype": "text/x-python",
      "name": "python",
      "nbconvert_exporter": "python",
      "pygments_lexer": "ipython3",
      "version": "3.11.4"
    }
  },
  "nbformat": 4,
  "nbformat_minor": 0
}
