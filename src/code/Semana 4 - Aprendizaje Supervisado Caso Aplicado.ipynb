{
  "nbformat": 4,
  "nbformat_minor": 0,
  "metadata": {
    "colab": {
      "provenance": [],
      "toc_visible": true
    },
    "kernelspec": {
      "name": "python3",
      "display_name": "Python 3"
    },
    "language_info": {
      "name": "python"
    }
  },
  "cells": [
    {
      "cell_type": "markdown",
      "source": [
        "<center>\n",
        "    <font size=\"5\" color=\"steelblue\"><b>Universidad Nacional de Colombia</b></font><br>\n",
        "    <font size=\"5\" color=\"steelblue\"><b>Unidad de Informática - Facultad de Ciencias Económicas</b></font><br>\n",
        "    <font size=\"5\" color=\"steelblue\"><b>Curso Libre Machine Learning con Python | 2023-1</b></font><br>\n",
        "    <font size=\"5\" color=\"steelblue\"><b>Semana 4: Aprendizaje Supervisado Caso Aplicado</b></font><br>\n",
        "    <font size=\"5\" color=\"steelblue\"><b>Estudiante Auxiliar: Jaime Andrés Fierro Aponte</b></font><br>\n",
        "</center>"
      ],
      "metadata": {
        "id": "vvI8RXa8VkQ_"
      }
    },
    {
      "cell_type": "markdown",
      "source": [
        "# Dependencias"
      ],
      "metadata": {
        "id": "TxIopWnkWKwF"
      }
    },
    {
      "cell_type": "code",
      "source": [
        "# Manejo de datos\n",
        "import pandas as pd\n",
        "import numpy as np\n",
        "\n",
        "# Visualización\n",
        "import matplotlib.pyplot as plt\n",
        "# from matplotlib import pyplot as plt\n",
        "import seaborn as sns\n",
        "plt.style.use('ggplot')\n",
        "\n",
        "# Machine Learning\n",
        "from sklearn.preprocessing import StandardScaler, OneHotEncoder\n",
        "from sklearn.model_selection import train_test_split, GridSearchCV\n",
        "from imblearn.over_sampling import SMOTE\n",
        "\n",
        "from sklearn.naive_bayes import GaussianNB\n",
        "from sklearn.neighbors import KNeighborsClassifier\n",
        "from sklearn.tree import DecisionTreeClassifier\n",
        "from sklearn.ensemble import RandomForestClassifier\n",
        "from sklearn.ensemble import GradientBoostingClassifier\n",
        "from xgboost import XGBClassifier\n",
        "\n",
        "from sklearn.metrics import (confusion_matrix, classification_report,\n",
        "                             roc_curve, auc, balanced_accuracy_score)\n",
        "\n",
        "# Conexión con Drive\n",
        "from google.colab import drive"
      ],
      "metadata": {
        "id": "f7P7a4oBWMlt"
      },
      "execution_count": null,
      "outputs": []
    },
    {
      "cell_type": "code",
      "source": [
        "# Establecer la conexión con mi drive\n",
        "drive.mount('/content/drive')"
      ],
      "metadata": {
        "id": "U9Xzyq4qO0Aj"
      },
      "execution_count": null,
      "outputs": []
    },
    {
      "cell_type": "code",
      "source": [
        "# Función para graficar el área bajo la curva ROC\n",
        "def auc_roc(y_true, y_predicted):\n",
        "\n",
        "  plt.figure(figsize=(5, 5))\n",
        "\n",
        "  tpr,fpr,_ = roc_curve(y_true, y_predicted)\n",
        "  roc_auc = 1 - auc(fpr, tpr)\n",
        "  plt.plot(tpr, fpr, color='darkorange', lw=2,\n",
        "          label='Curva ROC (area = %0.2f)' % roc_auc)\n",
        "  plt.plot([0, 1], [0, 1], color='navy', lw=2, linestyle='--')\n",
        "  plt.xlim([-0.05, 1.0])\n",
        "  plt.ylim([0.0, 1.05])\n",
        "  plt.xlabel('% Falso Positivo')\n",
        "  plt.ylabel('% Verdadero Positivo')\n",
        "  plt.title('Curva ROC')\n",
        "  plt.legend(loc='lower right')\n",
        "\n"
      ],
      "metadata": {
        "id": "gbliDxItZxyZ"
      },
      "execution_count": null,
      "outputs": []
    },
    {
      "cell_type": "markdown",
      "source": [
        "# Importación de datos\n",
        "\n",
        "El conjunto de datos recupera información sobre los clientes de un banco. Éstos datos fueron construídos para el análisis sobre la cancelación de productos creditios por parte de algunos clientes. Las variables disponibles son las siguientes:\n",
        "\n",
        "* **CLIENTNUM**: Número de cliente. Identificador único del cliente titular de la cuenta\n",
        "* **Attrition_Flag**: Actividad del cliente - Cliente que abandonó o cliente que aún existe\n",
        "* **Customer_Age**: Variable demográfica - Edad del cliente en años\n",
        "* **Gender**: Variable demográfica - M=Male, F=Female\n",
        "* **Dependent_count**: Variable demográfica - Número de dependientes\n",
        "* **Education_Level**: Variable demográfica**: Nivel educativo - Nivel educativo del titular de la cuenta (high school, college graduate, etc.)\n",
        "* **Marital_Status**: Variable demográfica**: Estado civil - Married, Single, Divorced, Unknow\n",
        "* **Income**: Variable demográfica**: Ingreso - Ingreso anual del titular de la cuenta\n",
        "* **Card_Category**: Varible del producto - Tipo de la tarjeta (Blue, Silver, Gold, Platinum)\n",
        "* **Months_on_book**: Periodo de relación con el banco\n",
        "* **Total_Relationship_Count**: Número total de productos obtenidos por el cliente\n",
        "* **Months_Inactive_12_mon**: Número de meses inactivo en los últimos 12 meses\n",
        "* **Contacts_Count_12_mon**: Número de contactos en los últimos 12 meses\n",
        "* **Credit_Limit**: Límite de crédito en la tarjeta de crédito\n",
        "* **Total_Revolving_Bal**: Saldo rotatorio total en la tarjeta de crédito\n",
        "* **Avg_Open_To_Buy**: Línea de crédito abierta para comprar (promedio de los últimos 12 meses)\n",
        "* **Total_Amt_Chng_Q4_Q1**: Cambio en el monto de la transacción (Q4 sobre Q1)\n",
        "* **Total_Trans_Amt**: Monto total de transacción (últimos 12 meses)\n",
        "* **Total_Trans_Ct**: Cantidad total de transacciones (últimos 12 meses)\n",
        "* **Total_Ct_Chng_Q4_Q1**: Cambio en la cantidad total de transacciones (Q4 sobre Q1)\n",
        "* **Avg_Utilization_Ratio**: Ratio de uso promedio de la tarjeta"
      ],
      "metadata": {
        "id": "jZ_Bnn-wAhxk"
      }
    },
    {
      "cell_type": "code",
      "source": [
        "# Importar los datos\n",
        "bank_attrited = pd.read_excel('/content/drive/MyDrive/UIFCE/0. 2023-1 Curso Libre Machine Learning en Python/Datos/Bank Attrited Customers.xlsx')\n",
        "bank_attrited"
      ],
      "metadata": {
        "id": "bxildhdGaVCc"
      },
      "execution_count": null,
      "outputs": []
    },
    {
      "cell_type": "markdown",
      "source": [
        "## Exploración Inicial"
      ],
      "metadata": {
        "id": "ICABsQq8bpMk"
      }
    },
    {
      "cell_type": "code",
      "source": [
        "# Tipo de objeto\n",
        "type(bank_attrited)"
      ],
      "metadata": {
        "id": "fDLMmXlWbXF5"
      },
      "execution_count": null,
      "outputs": []
    },
    {
      "cell_type": "code",
      "source": [
        "# Tipo de datos por variable\n",
        "bank_attrited.dtypes"
      ],
      "metadata": {
        "id": "DrD1ueQSbYgo"
      },
      "execution_count": null,
      "outputs": []
    },
    {
      "cell_type": "code",
      "source": [
        "# Dimensiones\n",
        "bank_attrited.shape"
      ],
      "metadata": {
        "id": "ff04AbdJbbUQ"
      },
      "execution_count": null,
      "outputs": []
    },
    {
      "cell_type": "code",
      "source": [
        "# Conteo de datos nulos\n",
        "bank_attrited.isna().sum()\n",
        "# Para tratar los datos nulos, revisar algoritmo MICE (Multiple Imputation in Chained Equations)"
      ],
      "metadata": {
        "id": "k8CgRb4VbcoI"
      },
      "execution_count": null,
      "outputs": []
    },
    {
      "cell_type": "code",
      "source": [
        "# Información general\n",
        "bank_attrited.info()"
      ],
      "metadata": {
        "id": "joeslCT6bi3E"
      },
      "execution_count": null,
      "outputs": []
    },
    {
      "cell_type": "code",
      "source": [
        "# Eliminar variable identificadora\n",
        "datos = bank_attrited.copy()\n",
        "datos = datos.drop(columns='CLIENTNUM')\\\n",
        "             .dropna()"
      ],
      "metadata": {
        "id": "liWAU_JZfWm-"
      },
      "execution_count": null,
      "outputs": []
    },
    {
      "cell_type": "code",
      "source": [
        "datos.shape"
      ],
      "metadata": {
        "id": "RcZiqy1FQcDD"
      },
      "execution_count": null,
      "outputs": []
    },
    {
      "cell_type": "markdown",
      "source": [
        "# Selección de variables"
      ],
      "metadata": {
        "id": "aOVTji75R5BT"
      }
    },
    {
      "cell_type": "markdown",
      "source": [
        "## Análisis de correlación"
      ],
      "metadata": {
        "id": "snNjuw76SOeb"
      }
    },
    {
      "cell_type": "code",
      "source": [
        "# Calcular la matriz de correlación\n",
        "corr_matrix = datos.corr(numeric_only=True)\n",
        "\n",
        "# Matriz de correlación reducida\n",
        "\n",
        "# Variables que tienen alta correlación\n",
        "high_corrs = [\n",
        "              (i, j)\n",
        "              for i in corr_matrix.columns\n",
        "              for j in corr_matrix.index\n",
        "              if (np.abs(corr_matrix.loc[i, j]) >= 0.7) & (i != j)\n",
        "             ]\n",
        "\n",
        "# Lista con las variables después del filtro\n",
        "lista_high_corrs = []\n",
        "for i in range(len(high_corrs)):\n",
        "  el_1 = high_corrs[i][0]\n",
        "  el_2 = high_corrs[i][1]\n",
        "  lista_high_corrs.extend([el_1, el_2])\n",
        "\n",
        "# Variables únicas de la lista de variables\n",
        "vars_high_corrs = list(set(lista_high_corrs))\n",
        "\n",
        "# Matríz de correlación reducida\n",
        "small_corr_matrix = datos[vars_high_corrs].corr()\n",
        "\n",
        "# Heatmap de correlación\n",
        "plt.figure(figsize=(8, 5))\n",
        "sns.heatmap(small_corr_matrix,\n",
        "            annot=True,\n",
        "            linewidths=0.5,\n",
        "            linecolor='black',\n",
        "            vmin=-1,\n",
        "            vmax=1,\n",
        "            fmt = '.3f',\n",
        "            cmap='coolwarm')\n",
        "plt.show()"
      ],
      "metadata": {
        "id": "ZrjMd21zR3ak"
      },
      "execution_count": null,
      "outputs": []
    },
    {
      "cell_type": "markdown",
      "source": [
        "Varias soluciones se pueden aplicar en los casos de correlaciones altas. Por ejemplo, probar con PCA en las variables que están muy correlacionadas, o análisis factorial. Se puede intentar transformar algunas de las variables con correlación, aplicando distintos tipos de funciones, como la logarítmica, curva power, curva S, entre otros, dependiendo de lo que tenga sentido analítico. Otra opción es sumar o promediar las variables, dependiendo de las características que tengan y del sentido analítico que se le de dentro del negocio."
      ],
      "metadata": {
        "id": "4c846rpaSRJL"
      }
    },
    {
      "cell_type": "code",
      "source": [
        "# Para el caso de ejemplo que estamos viendo, eliminaremos las variables correlacionadas\n",
        "# con base en la experiencia\n",
        "vars_no_corr = [\n",
        "    'Attrition_Flag', 'Customer_Age', 'Gender', 'Dependent_count',\n",
        "    'Education_Level', 'Marital_Status', 'Income', 'Card_Category',\n",
        "    'Total_Relationship_Count', 'Months_Inactive_12_mon',\n",
        "    'Contacts_Count_12_mon', 'Credit_Limit', 'Total_Revolving_Bal',\n",
        "    'Total_Amt_Chng_Q4_Q1', 'Total_Trans_Amt',\n",
        "    'Total_Ct_Chng_Q4_Q1', 'Avg_Utilization_Ratio'\n",
        "    ]\n",
        "\n",
        "datos_no_corr = datos.copy()\n",
        "datos_no_corr = datos_no_corr[vars_no_corr]"
      ],
      "metadata": {
        "id": "YHwNbZFsSvYY"
      },
      "execution_count": null,
      "outputs": []
    },
    {
      "cell_type": "markdown",
      "source": [
        "# Pre-procesamiento"
      ],
      "metadata": {
        "id": "K_K7_B72TgZn"
      }
    },
    {
      "cell_type": "markdown",
      "source": [
        "## Estandarización de variables numéricas"
      ],
      "metadata": {
        "id": "nkmR-JsQTocq"
      }
    },
    {
      "cell_type": "code",
      "source": [
        "datos_no_corr['Total_Relationship_Count'].value_counts()"
      ],
      "metadata": {
        "id": "SrlLJb0_Q8XI"
      },
      "execution_count": null,
      "outputs": []
    },
    {
      "cell_type": "code",
      "source": [
        "datos_no_corr['Months_Inactive_12_mon'].value_counts()"
      ],
      "metadata": {
        "id": "WOLYiOnBRCJD"
      },
      "execution_count": null,
      "outputs": []
    },
    {
      "cell_type": "code",
      "source": [
        "datos_no_corr['Contacts_Count_12_mon'].value_counts()"
      ],
      "metadata": {
        "id": "uVQ6mw-pRGIv"
      },
      "execution_count": null,
      "outputs": []
    },
    {
      "cell_type": "code",
      "source": [
        "num_vars = [\n",
        "    'Customer_Age', 'Income', 'Credit_Limit', 'Total_Revolving_Bal',\n",
        "    'Total_Amt_Chng_Q4_Q1', 'Total_Trans_Amt', 'Total_Ct_Chng_Q4_Q1',\n",
        "    'Avg_Utilization_Ratio'\n",
        "    ]\n",
        "datos_num = datos_no_corr[num_vars]\n",
        "datos_num.shape"
      ],
      "metadata": {
        "id": "9zASTZtNQeWX"
      },
      "execution_count": null,
      "outputs": []
    },
    {
      "cell_type": "code",
      "source": [
        "type(datos_num)"
      ],
      "metadata": {
        "id": "Qb8o6Fh0zAo4"
      },
      "execution_count": null,
      "outputs": []
    },
    {
      "cell_type": "code",
      "source": [
        "datos_num"
      ],
      "metadata": {
        "id": "DWRfPAkEzDYP"
      },
      "execution_count": null,
      "outputs": []
    },
    {
      "cell_type": "code",
      "source": [
        "# Crear instancia StandardScaler\n",
        "scaler = StandardScaler()\n",
        "\n",
        "# Estandarizar las variables\n",
        "X_scaled = scaler.fit_transform(datos_num)\n",
        "\n",
        "# Dimensiones de los datos estandarizados\n",
        "X_scaled.shape"
      ],
      "metadata": {
        "id": "GIb_5V4rPke-"
      },
      "execution_count": null,
      "outputs": []
    },
    {
      "cell_type": "code",
      "source": [
        "type(X_scaled)"
      ],
      "metadata": {
        "id": "iDPbVmKsy9CH"
      },
      "execution_count": null,
      "outputs": []
    },
    {
      "cell_type": "code",
      "source": [
        "X_scaled"
      ],
      "metadata": {
        "id": "Tzx0_cBPzFWB"
      },
      "execution_count": null,
      "outputs": []
    },
    {
      "cell_type": "markdown",
      "source": [
        "## Codificación de variables categóricas"
      ],
      "metadata": {
        "id": "vvs5pj5MUZt6"
      }
    },
    {
      "cell_type": "code",
      "source": [
        "categ_vars = [\n",
        "    'Gender', 'Dependent_count', 'Education_Level',\n",
        "    'Marital_Status', 'Card_Category', 'Total_Relationship_Count',\n",
        "    'Months_Inactive_12_mon', 'Contacts_Count_12_mon'\n",
        "    ]\n",
        "datos_categ = datos_no_corr[categ_vars]\n",
        "datos_categ.shape"
      ],
      "metadata": {
        "id": "1Sx7V4eAz_NQ"
      },
      "execution_count": null,
      "outputs": []
    },
    {
      "cell_type": "code",
      "source": [
        "# Codificación\n",
        "encoder = OneHotEncoder(sparse_output=False, drop='first')\n",
        "X_encoded = encoder.fit_transform(datos_categ)\n",
        "\n",
        "# Cantidad de características generadas\n",
        "X_encoded.shape"
      ],
      "metadata": {
        "id": "XRLXk1atVCm4"
      },
      "execution_count": null,
      "outputs": []
    },
    {
      "cell_type": "code",
      "source": [
        "datos_no_corr['Gender'].value_counts()"
      ],
      "metadata": {
        "id": "B7BXmQYVzybQ"
      },
      "execution_count": null,
      "outputs": []
    },
    {
      "cell_type": "code",
      "source": [
        "datos_no_corr['Card_Category'].value_counts()"
      ],
      "metadata": {
        "id": "PLiOcajDz9U4"
      },
      "execution_count": null,
      "outputs": []
    },
    {
      "cell_type": "code",
      "source": [
        "# Características categóricas codificadas\n",
        "encoder.get_feature_names_out()"
      ],
      "metadata": {
        "id": "upR_FGlYV9C5"
      },
      "execution_count": null,
      "outputs": []
    },
    {
      "cell_type": "markdown",
      "source": [
        "## Partición de los datos"
      ],
      "metadata": {
        "id": "_kXM1plkVRcW"
      }
    },
    {
      "cell_type": "code",
      "source": [
        "# Características a modelar\n",
        "X = np.concatenate((X_scaled, X_encoded), axis=1)\n",
        "X.shape"
      ],
      "metadata": {
        "id": "egUSKjHUVVrn"
      },
      "execution_count": null,
      "outputs": []
    },
    {
      "cell_type": "code",
      "source": [
        "# Conservar nombres de las características\n",
        "feature_names = num_vars\\\n",
        "                + encoder.get_feature_names_out()\\\n",
        "                         .tolist()"
      ],
      "metadata": {
        "id": "q4kdo8kVVmWd"
      },
      "execution_count": null,
      "outputs": []
    },
    {
      "cell_type": "code",
      "source": [
        "# Verificar cantidad de nombres con cantidad de características\n",
        "len(feature_names)"
      ],
      "metadata": {
        "id": "g5AfoSqjWNDe"
      },
      "execution_count": null,
      "outputs": []
    },
    {
      "cell_type": "code",
      "source": [
        "encoder_y = OneHotEncoder(sparse_output=False, drop='if_binary')\n",
        "y = encoder_y.fit_transform(datos['Attrition_Flag'].values.reshape(-1, 1))\n",
        "\n",
        "y"
      ],
      "metadata": {
        "id": "qPpRNz0V8NiU"
      },
      "execution_count": null,
      "outputs": []
    },
    {
      "cell_type": "code",
      "source": [
        "datos['Attrition_Flag'] = datos['Attrition_Flag'].str.replace('Existing Customer', '1')\n",
        "datos['Attrition_Flag'] = datos['Attrition_Flag'].str.replace('Attrited Customer', '0')\n",
        "datos['Attrition_Flag'] = datos['Attrition_Flag'].astype(int)\n",
        "\n",
        "y = datos['Attrition_Flag']"
      ],
      "metadata": {
        "id": "CuByb3779dj9"
      },
      "execution_count": null,
      "outputs": []
    },
    {
      "cell_type": "code",
      "source": [
        "# Partición de los datos\n",
        "X_train, X_test, y_train, y_test = train_test_split(X, y,\n",
        "                                                    train_size=0.7,\n",
        "                                                    random_state=42)"
      ],
      "metadata": {
        "id": "H9c6kUUwWnzs"
      },
      "execution_count": null,
      "outputs": []
    },
    {
      "cell_type": "markdown",
      "source": [
        "# Balanceo de clases"
      ],
      "metadata": {
        "id": "mI3h706lWsny"
      }
    },
    {
      "cell_type": "code",
      "source": [
        "# Clases desbalanceadas\n",
        "plt.figure(figsize=(10, 5))\n",
        "sns.countplot(x='Attrition_Flag', data=datos)\n",
        "plt.xlabel('Attrition Flag')\n",
        "plt.ylabel('Conteo')\n",
        "plt.show()"
      ],
      "metadata": {
        "id": "B7uvlItRWuBp"
      },
      "execution_count": null,
      "outputs": []
    },
    {
      "cell_type": "code",
      "source": [
        "# Balanceo con sobremuestreo SMOTE\n",
        "\n",
        "smote = SMOTE(k_neighbors=5, random_state=42)\n",
        "X_train_balance, y_train_balance = smote.fit_resample(X_train, y_train)\n",
        "\n",
        "class_counts = pd.Series(y_train_balance).value_counts()\n",
        "plt.figure(figsize=(10, 5))\n",
        "plt.bar(class_counts.index, class_counts, color=sns.color_palette('colorblind'))\n",
        "plt.xticks(range(2))\n",
        "plt.title('Distribución de las clases', size=22)\n",
        "plt.show()"
      ],
      "metadata": {
        "id": "i-7kSe0PW0jN"
      },
      "execution_count": null,
      "outputs": []
    },
    {
      "cell_type": "markdown",
      "source": [
        "# Modelación"
      ],
      "metadata": {
        "id": "Ws0739GdXFd_"
      }
    },
    {
      "cell_type": "markdown",
      "source": [
        "## Modelos lineales"
      ],
      "metadata": {
        "id": "5hwwAnatZGai"
      }
    },
    {
      "cell_type": "markdown",
      "source": [
        "### Naïve Bayes"
      ],
      "metadata": {
        "id": "dYIqaRqsZJa8"
      }
    },
    {
      "cell_type": "code",
      "source": [
        "# Crear la instancia\n",
        "nb_classifier = GaussianNB()\n",
        "# Entrenar el modelo\n",
        "nb_classifier.fit(X_train_balance, y_train_balance)\n",
        "\n",
        "# Predicción del modelo sobre los datos de entrenamiento\n",
        "y_train_pred_nb = nb_classifier.predict(X_train_balance)\n",
        "\n",
        "# Reporte de métricas de evaluación para clasificación\n",
        "print(classification_report(y_train_balance, y_train_pred_nb))"
      ],
      "metadata": {
        "id": "tnHWoMYKZIEZ"
      },
      "execution_count": null,
      "outputs": []
    },
    {
      "cell_type": "markdown",
      "source": [
        "## Grid-Search K-Flod Cross Validation"
      ],
      "metadata": {
        "id": "bLopCeyrXH1R"
      }
    },
    {
      "cell_type": "code",
      "source": [
        "# KNN\n",
        "grid_knn = {\n",
        "    'n_neighbors':range(5, 11)\n",
        "    }\n",
        "\n",
        "gs_cv_knn = GridSearchCV(KNeighborsClassifier(),\n",
        "                        param_grid=grid_knn,\n",
        "                        verbose=1)\n",
        "\n",
        "gs_cv_knn.fit(X_train_balance, y_train_balance)\n",
        "\n",
        "print(f'Best Params: {gs_cv_knn.best_params_}')\n",
        "print(f'Best Training Score: {gs_cv_knn.best_score_}')\n"
      ],
      "metadata": {
        "id": "YSDLVFmqXKtN"
      },
      "execution_count": null,
      "outputs": []
    },
    {
      "cell_type": "code",
      "source": [
        "# Árbol de Decisión\n",
        "grid_dt = {\n",
        "    'max_depth':range(4, 21, 2),\n",
        "    'criterion':['gini', 'entropy']\n",
        "}\n",
        "\n",
        "gs_cv_dt = GridSearchCV(DecisionTreeClassifier(),\n",
        "                        param_grid=grid_dt,\n",
        "                        verbose=1)\n",
        "\n",
        "gs_cv_dt.fit(X_train_balance, y_train_balance)\n",
        "\n",
        "print(f'Best Params: {gs_cv_dt.best_params_}')\n",
        "print(f'Best Scoring: {gs_cv_dt.best_score_}')"
      ],
      "metadata": {
        "id": "4UDzHzXQX90Z"
      },
      "execution_count": null,
      "outputs": []
    },
    {
      "cell_type": "markdown",
      "source": [
        "# Evaluación"
      ],
      "metadata": {
        "id": "rxtMJokVZyDl"
      }
    },
    {
      "cell_type": "markdown",
      "source": [
        "## Predicciones sobre datos de prueba"
      ],
      "metadata": {
        "id": "hbLaPiU9ZzSO"
      }
    },
    {
      "cell_type": "code",
      "source": [
        "# Predicciónes sobre las características de prueba\n",
        "\n",
        "y_pred_nb = nb_classifier.predict(X_test)\n",
        "y_pred_knn = gs_cv_knn.predict(X_test)\n",
        "y_pred_dt = gs_cv_dt.predict(X_test)"
      ],
      "metadata": {
        "id": "ap8RfL2hZ7YQ"
      },
      "execution_count": null,
      "outputs": []
    },
    {
      "cell_type": "markdown",
      "source": [
        "## Reporte de clasificación"
      ],
      "metadata": {
        "id": "50_a3SkKaFmV"
      }
    },
    {
      "cell_type": "code",
      "source": [
        "# Métricas de desempeño\n",
        "print(f'{\"-\"*60}\\n')\n",
        "print('Naïve Bayes')\n",
        "print(classification_report(y_test, y_pred_nb))\n",
        "print(f'{\"-\"*60}\\n')\n",
        "print('KNN')\n",
        "print(classification_report(y_test, y_pred_knn))\n",
        "print(f'{\"-\"*60}\\n')\n",
        "print('Decicision Tree')\n",
        "print(classification_report(y_test, y_pred_dt))\n",
        "print(f'{\"-\"*60}')"
      ],
      "metadata": {
        "id": "usmxFhikaOHu"
      },
      "execution_count": null,
      "outputs": []
    },
    {
      "cell_type": "code",
      "source": [
        "# Accuracy balanceado\n",
        "\n",
        "balanced_acc_dt = balanced_accuracy_score(y_test, y_pred_nb)\n",
        "balanced_acc_rf = balanced_accuracy_score(y_test, y_pred_knn)\n",
        "balanced_acc_xgb = balanced_accuracy_score(y_test, y_pred_dt)\n",
        "\n",
        "print(f'Balanced Accuracy Score for Naïve Bayes Classifier: {balanced_acc_dt:.4f}')\n",
        "print(f'Balanced Accuracy Score for KNN Classifier: {balanced_acc_rf:.4f}')\n",
        "print(f'Balanced Accuracy Score for Decision Tree Classifier: {balanced_acc_xgb:.4f}')"
      ],
      "metadata": {
        "id": "CzgQyF0HaZN1"
      },
      "execution_count": null,
      "outputs": []
    },
    {
      "cell_type": "markdown",
      "source": [
        "# Ensambles"
      ],
      "metadata": {
        "id": "EkyKmiU0585N"
      }
    },
    {
      "cell_type": "code",
      "source": [
        "# Bosque Aleatorio\n",
        "grid_rf = {\n",
        "    'criterion':['gini', 'entropy'],\n",
        "    'max_depth':range(5, 21, 5),\n",
        "    'n_estimators':range(40, 61, 10),\n",
        "    }\n",
        "\n",
        "gs_cv_rf = GridSearchCV(RandomForestClassifier(),\n",
        "                        param_grid=grid_rf,\n",
        "                        verbose=1,\n",
        "                        return_train_score=True)\n",
        "\n",
        "gs_cv_rf.fit(X_train_balance, y_train_balance)\n",
        "\n",
        "gs_cv_rf.best_params_"
      ],
      "metadata": {
        "id": "TFp5fkg87Uur"
      },
      "execution_count": null,
      "outputs": []
    },
    {
      "cell_type": "code",
      "source": [
        "# XGBoost\n",
        "grid_xgb = {\n",
        "    'learning_rate': np.arange(0.01, 0.06, 0.02),\n",
        "    'n_estimators': range(40, 61, 10),\n",
        "    'max_depth': range(5, 8)\n",
        "}\n",
        "\n",
        "\n",
        "gs_cv_xgb = GridSearchCV(XGBClassifier(),\n",
        "                         param_grid=grid_xgb,\n",
        "                         verbose=1,\n",
        "                         return_train_score=True)\n",
        "\n",
        "gs_cv_xgb.fit(X_train, y_train)\n",
        "\n",
        "gs_cv_xgb.best_params_\n"
      ],
      "metadata": {
        "id": "KHJAnX017Xv5"
      },
      "execution_count": null,
      "outputs": []
    },
    {
      "cell_type": "code",
      "source": [
        "# Predicciónes sobre las características de prueba\n",
        "\n",
        "y_pred_rf = gs_cv_rf.predict(X_test)\n",
        "y_pred_xgb = gs_cv_xgb.predict(X_test)"
      ],
      "metadata": {
        "id": "zUpu1Ii6-eSZ"
      },
      "execution_count": null,
      "outputs": []
    },
    {
      "cell_type": "code",
      "source": [
        "# Métricas de desempeño\n",
        "print(f'{\"-\"*60}\\n')\n",
        "print('Random Forest')\n",
        "print(classification_report(y_test, y_pred_rf))\n",
        "print(f'{\"-\"*60}\\n')\n",
        "print('XGBoost')\n",
        "print(classification_report(y_test, y_pred_xgb))\n"
      ],
      "metadata": {
        "id": "HiH17lhd-tu0"
      },
      "execution_count": null,
      "outputs": []
    },
    {
      "cell_type": "code",
      "source": [
        "# Accuracy balanceado\n",
        "\n",
        "balanced_acc_dt = balanced_accuracy_score(y_test, y_pred_rf)\n",
        "balanced_acc_rf = balanced_accuracy_score(y_test, y_pred_xgb)\n",
        "\n",
        "print(f'Balanced Accuracy Score for Random Forest Classifier: {balanced_acc_dt:.4f}')\n",
        "print(f'Balanced Accuracy Score for XGBoost Classifier: {balanced_acc_rf:.4f}')\n"
      ],
      "metadata": {
        "id": "DAS4xGx4_Dw1"
      },
      "execution_count": null,
      "outputs": []
    }
  ]
}